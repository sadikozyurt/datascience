{
 "cells": [
  {
   "cell_type": "code",
   "execution_count": 1,
   "metadata": {},
   "outputs": [
    {
     "name": "stdout",
     "output_type": "stream",
     "text": [
      "2\n"
     ]
    }
   ],
   "source": [
    "#integer değeri doğrudan yazdırabiliriz\n",
    "print(2)"
   ]
  },
  {
   "cell_type": "code",
   "execution_count": 2,
   "metadata": {},
   "outputs": [
    {
     "name": "stdout",
     "output_type": "stream",
     "text": [
      "3.145\n"
     ]
    }
   ],
   "source": [
    "#integer değeri doğrudan yazdırabiliriz\n",
    "print(3.145)"
   ]
  },
  {
   "cell_type": "code",
   "execution_count": 3,
   "metadata": {},
   "outputs": [
    {
     "name": "stdout",
     "output_type": "stream",
     "text": [
      "-0.2\n"
     ]
    }
   ],
   "source": [
    "#integer değeri doğrudan yazdırabiliriz\n",
    "print(-0.2)"
   ]
  },
  {
   "cell_type": "code",
   "execution_count": 4,
   "metadata": {},
   "outputs": [
    {
     "name": "stdout",
     "output_type": "stream",
     "text": [
      "5.5\n"
     ]
    }
   ],
   "source": [
    "#integer değeri doğrudan yazdırabiliriz\n",
    "print(2+3.5)"
   ]
  },
  {
   "cell_type": "code",
   "execution_count": 5,
   "metadata": {},
   "outputs": [
    {
     "name": "stdout",
     "output_type": "stream",
     "text": [
      "4.0\n"
     ]
    }
   ],
   "source": [
    "#integer değeri doğrudan yazdırabiliriz\n",
    "print((2+3)*4/5)"
   ]
  },
  {
   "cell_type": "code",
   "execution_count": 8,
   "metadata": {},
   "outputs": [
    {
     "name": "stdout",
     "output_type": "stream",
     "text": [
      "1\n"
     ]
    }
   ],
   "source": [
    "#1. değer / 2. değer işleminden kalanı döndürür (mod işlevi)\n",
    "print(10%3)"
   ]
  },
  {
   "cell_type": "code",
   "execution_count": 17,
   "metadata": {},
   "outputs": [
    {
     "name": "stdout",
     "output_type": "stream",
     "text": [
      "0\n"
     ]
    }
   ],
   "source": [
    "sayi=506\n",
    "kalan=sayi%2\n",
    "print(kalan)"
   ]
  },
  {
   "cell_type": "code",
   "execution_count": 19,
   "metadata": {},
   "outputs": [
    {
     "name": "stdout",
     "output_type": "stream",
     "text": [
      "506\n"
     ]
    }
   ],
   "source": [
    "#interger ifadeyi string ifadeye dönüştürür\n",
    "sayi=506\n",
    "print(str(sayi)) #döndürülen değer integer değil string olacak"
   ]
  },
  {
   "cell_type": "code",
   "execution_count": 20,
   "metadata": {},
   "outputs": [
    {
     "name": "stdout",
     "output_type": "stream",
     "text": [
      "506\n"
     ]
    },
    {
     "ename": "TypeError",
     "evalue": "object of type 'int' has no len()",
     "output_type": "error",
     "traceback": [
      "\u001b[1;31m---------------------------------------------------------------------------\u001b[0m",
      "\u001b[1;31mTypeError\u001b[0m                                 Traceback (most recent call last)",
      "Cell \u001b[1;32mIn[20], line 4\u001b[0m\n\u001b[0;32m      2\u001b[0m sayi\u001b[38;5;241m=\u001b[39m\u001b[38;5;241m506\u001b[39m\n\u001b[0;32m      3\u001b[0m \u001b[38;5;28mprint\u001b[39m(\u001b[38;5;28mstr\u001b[39m(sayi)) \u001b[38;5;66;03m#döndürülen değer integer değil string olacak\u001b[39;00m\n\u001b[1;32m----> 4\u001b[0m \u001b[38;5;28mprint\u001b[39m(\u001b[38;5;28mlen\u001b[39m(sayi))\n",
      "\u001b[1;31mTypeError\u001b[0m: object of type 'int' has no len()"
     ]
    }
   ],
   "source": [
    "#interger ifadeyi string ifadeye dönüştürür\n",
    "sayi=506\n",
    "print(str(sayi)) #döndürülen değer integer değil string olacak\n",
    "print(len(sayi)) #integer olduğu için uzunluğu verilemez. Hata verir"
   ]
  },
  {
   "cell_type": "code",
   "execution_count": 23,
   "metadata": {},
   "outputs": [
    {
     "name": "stdout",
     "output_type": "stream",
     "text": [
      "15\n"
     ]
    }
   ],
   "source": [
    "#interger ifadeyi string ifadeye dönüştürür\n",
    "sayi=506424354544663\n",
    "print(len(str(sayi))) #stringe dönüştürülmüş yeni ifadenin uzunluğunu döndürebiliriz"
   ]
  },
  {
   "cell_type": "code",
   "execution_count": 26,
   "metadata": {},
   "outputs": [
    {
     "name": "stdout",
     "output_type": "stream",
     "text": [
      "En Sevdiğim Sayı 506\n"
     ]
    }
   ],
   "source": [
    "#interger ifadeyi string ifadeye dönüştürür\n",
    "sayi=506\n",
    "print(\"En Sevdiğim Sayı \"+ str(sayi)) #sayi ifadesi string olmazsa hata verir\n"
   ]
  },
  {
   "cell_type": "code",
   "execution_count": 30,
   "metadata": {},
   "outputs": [
    {
     "name": "stdout",
     "output_type": "stream",
     "text": [
      "En Sevdiğim Sayı  506\n"
     ]
    }
   ],
   "source": [
    "#interger ifadeyi string ifadeye dönüştürür\n",
    "sayi=506\n",
    "print(\"En Sevdiğim Sayı \",sayi) #sayi ifadesi string olmazsa + ile değil , ile birleştirme yaparız"
   ]
  },
  {
   "cell_type": "code",
   "execution_count": 32,
   "metadata": {},
   "outputs": [
    {
     "name": "stdout",
     "output_type": "stream",
     "text": [
      "Sayının Mutlak Değeri:  506.6\n"
     ]
    }
   ],
   "source": [
    "#mutlak değerini ans ile döndürürüz\n",
    "sayi=-506\n",
    "print(\"Sayının Mutlak Değeri: \",abs(sayi))"
   ]
  },
  {
   "cell_type": "code",
   "execution_count": 33,
   "metadata": {},
   "outputs": [
    {
     "name": "stdout",
     "output_type": "stream",
     "text": [
      "8\n"
     ]
    }
   ],
   "source": [
    "#üstsel değerini alma\n",
    "print (pow(2,3)) #2^3. ikinci ifade üst değeri"
   ]
  },
  {
   "cell_type": "code",
   "execution_count": 34,
   "metadata": {},
   "outputs": [
    {
     "name": "stdout",
     "output_type": "stream",
     "text": [
      "9\n"
     ]
    }
   ],
   "source": [
    "#üstsel değerini alma\n",
    "print (pow(3,2)) #3^2 ikinci ifade üst değeri"
   ]
  },
  {
   "cell_type": "code",
   "execution_count": 39,
   "metadata": {},
   "outputs": [
    {
     "name": "stdout",
     "output_type": "stream",
     "text": [
      "434\n"
     ]
    }
   ],
   "source": [
    "#değerlerden büyük olanı döndürür\n",
    "print (max(4,6,8,100,434))"
   ]
  },
  {
   "cell_type": "code",
   "execution_count": 37,
   "metadata": {},
   "outputs": [
    {
     "name": "stdout",
     "output_type": "stream",
     "text": [
      "4\n"
     ]
    }
   ],
   "source": [
    "#iki değerden küçük olanı döndürür\n",
    "print (min(4,6))"
   ]
  },
  {
   "cell_type": "code",
   "execution_count": 5,
   "metadata": {},
   "outputs": [
    {
     "name": "stdout",
     "output_type": "stream",
     "text": [
      "4\n",
      "4.12\n",
      "4.123\n",
      "4.1235\n",
      "4.12346\n"
     ]
    }
   ],
   "source": [
    "#değerin yuvarlanmış halini döndürür\n",
    "a=4.123456789\n",
    "print (round(a))\n",
    "print(round(a,2)) #2 basamaklı yuvarlar\n",
    "print(round(a,3)) #3 basamaklı yuvarlar\n",
    "print(round(a,4)) #4 basamaklı yuvarlar\n",
    "print(round(a,5)) #5 basamaklı yuvarlar"
   ]
  },
  {
   "cell_type": "code",
   "execution_count": 10,
   "metadata": {},
   "outputs": [
    {
     "name": "stdout",
     "output_type": "stream",
     "text": [
      "770.0\n",
      "800.0\n",
      "1000.0\n",
      "0.0\n",
      "0.0\n",
      "0.0\n"
     ]
    }
   ],
   "source": [
    "a=765.123456789\n",
    "print(round(a,-1)) #1. derecede düz sayıya yuvarlar (770)\n",
    "print(round(a,-2)) #2. derecede düz sayıya yuvarlar(800)\n",
    "print(round(a,-3)) #3. derecede düz sayıya yuvarlar(1000)\n",
    "print(round(a,-4)) #4. derecede düz sayıya yuvarlar(0.0)\n",
    "print(round(a,-5)) #5. derecede düz sayıya yuvarlar(0.0)\n",
    "print(round(a,-6)) #6. derecede düz sayıya yuvarlar(0.0)\n"
   ]
  },
  {
   "cell_type": "code",
   "execution_count": 1,
   "metadata": {},
   "outputs": [
    {
     "name": "stdout",
     "output_type": "stream",
     "text": [
      "5\n"
     ]
    }
   ],
   "source": [
    "#değerin yuvarlanmış halini döndürür\n",
    "print (round(4.501))"
   ]
  },
  {
   "cell_type": "code",
   "execution_count": 3,
   "metadata": {},
   "outputs": [
    {
     "name": "stdout",
     "output_type": "stream",
     "text": [
      "taban: 3\n",
      "tavan hali 4\n",
      "karekök 7.0\n",
      "karekök2 7.0\n",
      "yuvarlanmış hali:  4\n"
     ]
    }
   ],
   "source": [
    "from math import * #math modülünden çekiyoruz\n",
    "taban=floor(3.99999) #sayının taban kısmını döndürür.\n",
    "yuvarla=round(3.99999)\n",
    "tavan=ceil(3.00000000000001)\n",
    "karekök=sqrt(49) #iki şekilde de karekök alınabilir.\n",
    "karekök2=49**0.5 #iki şekilde de karekök alınabilir.\n",
    "print(\"taban:\",taban)\n",
    "print(\"tavan hali\",tavan)\n",
    "print(\"karekök\",karekök)\n",
    "print(\"karekök2\", karekök2)\n",
    "print(\"yuvarlanmış hali: \", yuvarla)\n",
    "\n"
   ]
  },
  {
   "cell_type": "code",
   "execution_count": 66,
   "metadata": {},
   "outputs": [
    {
     "name": "stdout",
     "output_type": "stream",
     "text": [
      "5\n"
     ]
    }
   ],
   "source": [
    "x=1\n",
    "x=2\n",
    "x=3\n",
    "x=4\n",
    "x=5\n",
    "print(x) #son x değeri geçerli olacaktır"
   ]
  },
  {
   "cell_type": "code",
   "execution_count": 67,
   "metadata": {},
   "outputs": [
    {
     "name": "stdout",
     "output_type": "stream",
     "text": [
      "3 1 2\n"
     ]
    }
   ],
   "source": [
    "x,y,z=1,2,3\n",
    "x,y,z=z,x,y\n",
    "print(x,y,z) #normal x=1 y=2 z=3 iken yer değiştirdi x=3 y=1 z=2 oldu"
   ]
  },
  {
   "cell_type": "code",
   "execution_count": 68,
   "metadata": {},
   "outputs": [
    {
     "ename": "NameError",
     "evalue": "name 'a' is not defined",
     "output_type": "error",
     "traceback": [
      "\u001b[1;31m---------------------------------------------------------------------------\u001b[0m",
      "\u001b[1;31mNameError\u001b[0m                                 Traceback (most recent call last)",
      "Cell \u001b[1;32mIn[68], line 3\u001b[0m\n\u001b[0;32m      1\u001b[0m a\u001b[38;5;241m=\u001b[39m\u001b[38;5;241m100\u001b[39m\n\u001b[0;32m      2\u001b[0m \u001b[38;5;28;01mdel\u001b[39;00m a\n\u001b[1;32m----> 3\u001b[0m \u001b[38;5;28mprint\u001b[39m(a)\n",
      "\u001b[1;31mNameError\u001b[0m: name 'a' is not defined"
     ]
    }
   ],
   "source": [
    "a=100\n",
    "del a # a değişkeni 100 olarak atanmıştı ama del fonksşyonu ile sildik. \n",
    "print(a) # a değişkenini yazdırmak isteyince silindiği için yazdıramadık"
   ]
  },
  {
   "cell_type": "code",
   "execution_count": 69,
   "metadata": {},
   "outputs": [
    {
     "data": {
      "text/plain": [
       "5.0"
      ]
     },
     "execution_count": 69,
     "metadata": {},
     "output_type": "execute_result"
    }
   ],
   "source": [
    "float(5) #float olarak 5=5.0"
   ]
  },
  {
   "cell_type": "code",
   "execution_count": 83,
   "metadata": {},
   "outputs": [
    {
     "name": "stdout",
     "output_type": "stream",
     "text": [
      "5 5\n",
      "10.0\n",
      "0.0\n"
     ]
    }
   ],
   "source": [
    "a=int(5.1) # integer olarak 5.1=5\n",
    "b=int(5.9) #integer olarak 5.9=5\n",
    "c=float(a+b) #5.1+5.9=11 olması gerekirken integer olarak atadığımız için a+b=10 olacak ve float olduğu için 10.0 olacak. aslında taban işlemi yapıyor gibi\n",
    "print(a,b)\n",
    "print(c)\n",
    "d=floor(5.9)\n",
    "e=int(5.9)\n",
    "f=d-e\n",
    "print(float(f))"
   ]
  },
  {
   "cell_type": "code",
   "execution_count": 88,
   "metadata": {},
   "outputs": [
    {
     "name": "stdout",
     "output_type": "stream",
     "text": [
      "5\n"
     ]
    }
   ],
   "source": [
    "print(\"5\") #tırnak içindeki integer artık string olmuştur"
   ]
  },
  {
   "cell_type": "code",
   "execution_count": 93,
   "metadata": {},
   "outputs": [
    {
     "name": "stdout",
     "output_type": "stream",
     "text": [
      "<class 'int'> <class 'float'> <class 'str'> <class 'bool'>\n"
     ]
    }
   ],
   "source": [
    "#type değerlerin türünü döndürür\n",
    "a=type(4)\n",
    "b=type(4.2)\n",
    "c=type(\"merhaba\")\n",
    "d=type(True)\n",
    "print(a,b,c,d)"
   ]
  }
 ],
 "metadata": {
  "kernelspec": {
   "display_name": "base",
   "language": "python",
   "name": "python3"
  },
  "language_info": {
   "codemirror_mode": {
    "name": "ipython",
    "version": 3
   },
   "file_extension": ".py",
   "mimetype": "text/x-python",
   "name": "python",
   "nbconvert_exporter": "python",
   "pygments_lexer": "ipython3",
   "version": "0.0.0"
  }
 },
 "nbformat": 4,
 "nbformat_minor": 2
}
