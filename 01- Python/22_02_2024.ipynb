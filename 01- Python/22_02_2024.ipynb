{
 "cells": [
  {
   "cell_type": "code",
   "execution_count": 2,
   "metadata": {},
   "outputs": [],
   "source": [
    "isim_listesi = []\n",
    "\n",
    "for i in range(1,11):\n",
    "\n",
    "    davetli = input(\"Davetli Adı Soyadı:\")\n",
    "    isim_listesi.append(davetli)\n"
   ]
  },
  {
   "cell_type": "code",
   "execution_count": 3,
   "metadata": {},
   "outputs": [
    {
     "data": {
      "text/plain": [
       "['Sadık ÖZyurt',\n",
       " 'İsmail',\n",
       " 'Mehmet Karabacka',\n",
       " 'Engin Derbazlar',\n",
       " 'Muhittin',\n",
       " 'Selim',\n",
       " 'Orkun',\n",
       " 'Mustafa Yanar',\n",
       " 'KErim Döner',\n",
       " 'Eren Çoban']"
      ]
     },
     "execution_count": 3,
     "metadata": {},
     "output_type": "execute_result"
    }
   ],
   "source": [
    "isim_listesi"
   ]
  },
  {
   "cell_type": "code",
   "execution_count": 7,
   "metadata": {},
   "outputs": [],
   "source": [
    "def davetli_listesi(x):\n",
    "\n",
    "    davetliler = []\n",
    "\n",
    "    for i in x:\n",
    "        davetli = i.split()\n",
    "        if len(davetli) > 1:\n",
    "            print (i)\n",
    "        else:\n",
    "            print (f\"Sn {i}\") "
   ]
  },
  {
   "cell_type": "code",
   "execution_count": 8,
   "metadata": {},
   "outputs": [
    {
     "name": "stdout",
     "output_type": "stream",
     "text": [
      "Sadık ÖZyurt\n",
      "Sn İsmail\n",
      "Mehmet Karabacka\n",
      "Engin Derbazlar\n",
      "Sn Muhittin\n",
      "Sn Selim\n",
      "Sn Orkun\n",
      "Mustafa Yanar\n",
      "KErim Döner\n",
      "Eren Çoban\n"
     ]
    }
   ],
   "source": [
    "davetli_listesi(isim_listesi)"
   ]
  },
  {
   "cell_type": "markdown",
   "metadata": {},
   "source": [
    "Verilen bir listedeki ardışık pozitif tamsayı dizilerini bulan bir fonksiyon yazın. Örneğin, [1, 2, 3, 5, 6, 7, 9] listesinde [1, 2, 3] ve [5, 6, 7] ardışık pozitif tamsayı dizileridir."
   ]
  },
  {
   "cell_type": "code",
   "execution_count": 28,
   "metadata": {},
   "outputs": [
    {
     "name": "stdout",
     "output_type": "stream",
     "text": [
      "[[1, 2, 3], [5, 6, 7]]\n"
     ]
    }
   ],
   "source": [
    "def ardışık_pozitif_dizileri_bul(liste):\n",
    "    ardışık_diziler = []\n",
    "    current_dizi = [liste[0]]\n",
    "\n",
    "    for i in range(1, len(liste)):\n",
    "        if liste[i] == liste[i-1] + 1:\n",
    "            current_dizi.append(liste[i])\n",
    "        else:\n",
    "            ardışık_diziler.append(current_dizi)\n",
    "            current_dizi = [liste[i]]\n",
    "\n",
    "    ardışık_diziler.append(current_dizi)  # Son diziyi ekleyin\n",
    "\n",
    "    return [dizi for dizi in ardışık_diziler if len(dizi) > 1]  # Tek elemanlı dizileri filtrele\n",
    "\n",
    "# Örnek kullanım\n",
    "liste = [1, 2, 3, 5, 6, 7, 9]\n",
    "print(ardışık_pozitif_dizileri_bul(liste))\n"
   ]
  },
  {
   "cell_type": "markdown",
   "metadata": {},
   "source": [
    "Verilen bir metindeki en çok tekrar eden kelimeyi bulan bir fonksiyon yazın."
   ]
  },
  {
   "cell_type": "code",
   "execution_count": 160,
   "metadata": {},
   "outputs": [],
   "source": [
    "def kelime_tekrar(metin):\n",
    "\n",
    "    kelime_listesi = metin.lower().split()\n",
    "    en_fazla_geçen_kelime_kümesi = set()\n",
    "\n",
    "    counter = dict()\n",
    "\n",
    "    for i in kelime_listesi:\n",
    "\n",
    "        kelime_sayısı = kelime_listesi.count(i)\n",
    "        counter[kelime_sayısı] = i\n",
    "        \n",
    "        \n",
    "        en_fazla_geçen_kelime_kümesi.add(counter[max(counter)])\n",
    "\n",
    "    return en_fazla_geçen_kelime_kümesi"
   ]
  },
  {
   "cell_type": "code",
   "execution_count": 161,
   "metadata": {},
   "outputs": [],
   "source": [
    "metin = \"The quick brown fox jumped over the lazy dog, and the dog, startled by the sudden movement, chased the fox through the dense forest.\"\n"
   ]
  },
  {
   "cell_type": "code",
   "execution_count": 162,
   "metadata": {},
   "outputs": [
    {
     "data": {
      "text/plain": [
       "{'the'}"
      ]
     },
     "execution_count": 162,
     "metadata": {},
     "output_type": "execute_result"
    }
   ],
   "source": [
    "kelime_tekrar(metin)"
   ]
  },
  {
   "cell_type": "markdown",
   "metadata": {},
   "source": [
    "Bir listedeki tüm alt listelerin toplamlarını hesaplayan bir fonksiyon yazın. Örneğin, [[1, 2], [3, 4], [5, 6]] listesinin alt listelerinin toplamı [3, 7, 11] olmalıdır."
   ]
  },
  {
   "cell_type": "code",
   "execution_count": 175,
   "metadata": {},
   "outputs": [],
   "source": [
    "def alt_liste_toplam(toplam):\n",
    "\n",
    "    toplam_liste = []\n",
    "\n",
    "    for i in toplam:\n",
    "\n",
    "        for j in toplam[i]:\n",
    "\n",
    "            alt_toplam += toplam[i]\n",
    "\n",
    "    toplam_liste.append(alt_toplam)\n",
    "\n",
    "    return toplam_liste"
   ]
  },
  {
   "cell_type": "code",
   "execution_count": 222,
   "metadata": {},
   "outputs": [],
   "source": [
    "def alt_liste_toplam(liste):\n",
    "\n",
    "    toplam_liste = []\n",
    "   \n",
    "    for i in liste:\n",
    "\n",
    "        alt_toplam = 0\n",
    "\n",
    "        for j in i:\n",
    "\n",
    "            alt_toplam += j\n",
    "        \n",
    "        toplam_liste.append(alt_toplam)\n",
    "\n",
    "    return toplam_liste"
   ]
  },
  {
   "cell_type": "code",
   "execution_count": 223,
   "metadata": {},
   "outputs": [],
   "source": [
    "toplam = [[1, 2], [3, 4], [5, 6]]"
   ]
  },
  {
   "cell_type": "code",
   "execution_count": 224,
   "metadata": {},
   "outputs": [
    {
     "data": {
      "text/plain": [
       "[3, 7, 11]"
      ]
     },
     "execution_count": 224,
     "metadata": {},
     "output_type": "execute_result"
    }
   ],
   "source": [
    "alt_liste_toplam(toplam)"
   ]
  },
  {
   "cell_type": "markdown",
   "metadata": {},
   "source": [
    "Verilen bir liste içindeki ardışık elemanlardan oluşan en uzun alt listeyi bulan bir fonksiyon yazın. "
   ]
  },
  {
   "cell_type": "code",
   "execution_count": 259,
   "metadata": {},
   "outputs": [],
   "source": [
    "def birleştir_sırala(x,y):\n",
    "\n",
    "    yeni_liste = x+y\n",
    "\n",
    "    return sorted(yeni_liste)\n"
   ]
  },
  {
   "cell_type": "code",
   "execution_count": 260,
   "metadata": {},
   "outputs": [
    {
     "data": {
      "text/plain": [
       "[1, 3, 4, 6, 8]"
      ]
     },
     "execution_count": 260,
     "metadata": {},
     "output_type": "execute_result"
    }
   ],
   "source": [
    "birleştir_sırala([4,1,3],[6,8])"
   ]
  },
  {
   "cell_type": "code",
   "execution_count": null,
   "metadata": {},
   "outputs": [],
   "source": []
  }
 ],
 "metadata": {
  "kernelspec": {
   "display_name": "Python 3",
   "language": "python",
   "name": "python3"
  },
  "language_info": {
   "codemirror_mode": {
    "name": "ipython",
    "version": 3
   },
   "file_extension": ".py",
   "mimetype": "text/x-python",
   "name": "python",
   "nbconvert_exporter": "python",
   "pygments_lexer": "ipython3",
   "version": "3.12.1"
  }
 },
 "nbformat": 4,
 "nbformat_minor": 2
}
