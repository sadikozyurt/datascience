{
 "cells": [
  {
   "cell_type": "code",
   "execution_count": 10,
   "metadata": {},
   "outputs": [
    {
     "name": "stdout",
     "output_type": "stream",
     "text": [
      "MARKETİMİZE HOŞGELDİNİZ\n",
      "-----------------------\n",
      "Ürünlerimiz\n",
      "-----------------------\n",
      "1: Elma\n",
      "2: Portakal\n",
      "3: Çilek\n",
      "4: Yumurta\n",
      "5: Havuç\n",
      "6: Armut\n",
      "-----------------------\n"
     ]
    },
    {
     "ename": "TypeError",
     "evalue": "unhashable type: 'list'",
     "output_type": "error",
     "traceback": [
      "\u001b[1;31m---------------------------------------------------------------------------\u001b[0m",
      "\u001b[1;31mTypeError\u001b[0m                                 Traceback (most recent call last)",
      "Cell \u001b[1;32mIn[10], line 18\u001b[0m\n\u001b[0;32m     16\u001b[0m ürünler \u001b[38;5;241m=\u001b[39m \u001b[38;5;28mlist\u001b[39m (\u001b[38;5;28mzip\u001b[39m(ürün_kodu, ürün_adı))\n\u001b[0;32m     17\u001b[0m sepet_listesi \u001b[38;5;241m=\u001b[39m []\n\u001b[1;32m---> 18\u001b[0m sepet \u001b[38;5;241m=\u001b[39m {sepet_listesi}\n\u001b[0;32m     21\u001b[0m \u001b[38;5;28;01mwhile\u001b[39;00m \u001b[38;5;28;01mTrue\u001b[39;00m:\n\u001b[0;32m     22\u001b[0m         istek \u001b[38;5;241m=\u001b[39m \u001b[38;5;28minput\u001b[39m(\u001b[38;5;124m\"\u001b[39m\u001b[38;5;124mAlmak İstediğiniz Ürünün Kod Numarasını Giriniz: (ÇIKIŞ> Q) \u001b[39m\u001b[38;5;124m\"\u001b[39m)\n",
      "\u001b[1;31mTypeError\u001b[0m: unhashable type: 'list'"
     ]
    }
   ],
   "source": [
    "print(\"MARKETİMİZE HOŞGELDİNİZ\")\n",
    "print (\"-\"*23)\n",
    "print(\"Ürünlerimiz\")\n",
    "print (\"-\"*23)\n",
    "print(\"1: Elma\")\n",
    "print(\"2: Portakal\")\n",
    "print(\"3: Çilek\")\n",
    "print(\"4: Yumurta\")\n",
    "print(\"5: Havuç\")\n",
    "print(\"6: Armut\")\n",
    "print (\"-\"*23)\n",
    "\n",
    "\n",
    "ürün_adı = [\"Elma\",\"Portakal\",\"Çilek\",\"Yumurta\",\"Havuç\",\"Armut\"]\n",
    "ürün_kodu = [1,2,3,4,5,6]\n",
    "ürünler = list (zip(ürün_kodu, ürün_adı))\n",
    "sepet_listesi = []\n",
    "\n",
    "\n",
    "while True:\n",
    "        istek = input(\"Almak İstediğiniz Ürünün Kod Numarasını Giriniz: (ÇIKIŞ> Q) \")\n",
    "\n",
    "        if istek.upper() == \"Q\":\n",
    "            break\n",
    "\n",
    "        else:\n",
    "            sepet_listesi.append(ürün_adı[int(istek)-1])\n",
    "            print(f\"Sepetinize {ürün_adı[int(istek)-1]} Eklendi...\")\n",
    "            \n",
    "print(f\"Çıkış Yaptınız. Bizi Tercih Ettiğiniz İçin Teşekkür Ederiz.\\n \\nSepetinizdeki Ürünler:\\n{sepet}\")  "
   ]
  },
  {
   "cell_type": "code",
   "execution_count": 16,
   "metadata": {},
   "outputs": [
    {
     "name": "stdout",
     "output_type": "stream",
     "text": [
      "MARKETİMİZE HOŞGELDİNİZ\n",
      "-----------------------\n",
      "Ürünlerimiz\n",
      "-----------------------\n",
      "1: Elma\n",
      "2: Portakal\n",
      "3: Çilek\n",
      "4: Yumurta\n",
      "5: Havuç\n",
      "6: Armut\n",
      "-----------------------\n",
      "Sepetinize Elma Eklendi...\n",
      "Sepetinize Portakal Eklendi...\n",
      "Sepetinize Çilek Eklendi...\n",
      "Sepetinize Yumurta Eklendi...\n",
      "Hata: Bu Kod Numarasında Ürün Mevcut Değildir.\n",
      "Hata: Bu Kod Numarasında Ürün Mevcut Değildir.\n",
      "Sepetinize Elma Eklendi...\n",
      "Sepetinize Elma Eklendi...\n",
      "Sepetinize Elma Eklendi...\n",
      "Sepetinize Elma Eklendi...\n",
      "Çıkış Yaptınız. Bizi Tercih Ettiğiniz İçin Teşekkür Ederiz.\n",
      " \n",
      "Sepetinizdeki Ürünler:\n",
      "{'Yumurta', 'Portakal', 'Elma', 'Çilek'}\n"
     ]
    }
   ],
   "source": [
    "print(\"MARKETİMİZE HOŞGELDİNİZ\")\n",
    "print (\"-\"*23)\n",
    "print(\"Ürünlerimiz\")\n",
    "print (\"-\"*23)\n",
    "print(\"1: Elma\")\n",
    "print(\"2: Portakal\")\n",
    "print(\"3: Çilek\")\n",
    "print(\"4: Yumurta\")\n",
    "print(\"5: Havuç\")\n",
    "print(\"6: Armut\")\n",
    "print (\"-\"*23)\n",
    "\n",
    "\n",
    "ürünler= {1:\"Elma\",2:\"Portakal\",3:\"Çilek\",4:\"Yumurta\",5:\"Havuç\",6:\"Armut\"}\n",
    "sepet = set()\n",
    "\n",
    "\n",
    "while True:\n",
    "        istek = input(\"Almak İstediğiniz Ürünün Kod Numarasını Giriniz: (ÇIKIŞ> Q) \")\n",
    "\n",
    "        if istek.upper() == \"Q\":\n",
    "            break\n",
    "        \n",
    "        elif 0 < int(istek) < 7:\n",
    "            sepet.add(ürünler[int(istek)])\n",
    "            print(f\"Sepetinize {ürünler[int(istek)]} Eklendi...\")\n",
    "\n",
    "        else:\n",
    "            print(\"Hata: Bu Kod Numarasında Ürün Mevcut Değildir.\")\n",
    "\n",
    "                                  \n",
    "print(f\"Çıkış Yaptınız. Bizi Tercih Ettiğiniz İçin Teşekkür Ederiz.\\n \\nSepetinizdeki Ürünler:\\n{sepet}\")  "
   ]
  },
  {
   "cell_type": "code",
   "execution_count": 15,
   "metadata": {},
   "outputs": [
    {
     "name": "stdout",
     "output_type": "stream",
     "text": [
      "MARKETİMİZE HOŞGELDİNİZ\n",
      "-----------------------\n",
      "Ürünlerimiz\n",
      "-----------------------\n",
      "1: Elma\n",
      "2: Portakal\n",
      "3: Çilek\n",
      "4: Yumurta\n",
      "5: Havuç\n",
      "6: Armut\n",
      "-----------------------\n",
      "Elma : 1\n",
      "Elma : 2\n",
      "Elma : 3\n",
      "Elma : 4\n",
      "Elma : 5\n",
      "Elma : 6\n",
      "Elma : 7\n",
      "Elma : 8\n",
      "Elma : 9\n",
      "Elma : 10\n",
      "Hata: Bu Kod Numarasında Ürün Mevcut Değildirrrrr.\n"
     ]
    },
    {
     "data": {
      "text/plain": [
       "{'Elma': 10, 'Portakal': 0, 'Çilek': 0, 'Yumurta': 0, 'Havuç': 0, 'Armut': 0}"
      ]
     },
     "execution_count": 15,
     "metadata": {},
     "output_type": "execute_result"
    }
   ],
   "source": [
    "sayaç = 0\n",
    "ürünler= {1:\"Elma\",2:\"Portakal\",3:\"Çilek\",4:\"Yumurta\",5:\"Havuç\",6:\"Armut\"}\n",
    "sepet = {\"Elma\":0,\"Portakal\":0,\"Çilek\":0,\"Yumurta\":0,\"Havuç\":0,\"Armut\":0}\n",
    "\n",
    "while True:\n",
    "    istek = input(\"Almak İstediğiniz Ürünün Kod Numarasını Giriniz: (ÇIKIŞ> Q) \")\n",
    "\n",
    "    if istek.upper() == \"Q\":\n",
    "        break\n",
    "\n",
    "    elif 0 < int(istek) < 7:\n",
    "\n",
    "        if istek == 1:\n",
    "            sepet[ürünler[istek]] = sepet[ürünler[istek]] + 1\n",
    "            print(ürünler[istek],\":\",sepet[ürünler[istek]])\n",
    "            break\n",
    "\n",
    "    else:\n",
    "        print(\"Hata: Bu Kod Numarasında Ürün Mevcut Değildirrrrr.\")\n",
    "\n",
    "sepet\n"
   ]
  },
  {
   "cell_type": "code",
   "execution_count": 22,
   "metadata": {},
   "outputs": [
    {
     "name": "stdout",
     "output_type": "stream",
     "text": [
      "hata\n"
     ]
    }
   ],
   "source": [
    "istek = input(\"istek:\")\n",
    "if 0 < int(istek) < 7 and istek.isalpha():\n",
    "    print(\"merhaba\")\n",
    "else:\n",
    "    print(\"hata\")"
   ]
  },
  {
   "cell_type": "code",
   "execution_count": null,
   "metadata": {},
   "outputs": [],
   "source": []
  }
 ],
 "metadata": {
  "kernelspec": {
   "display_name": "Python 3",
   "language": "python",
   "name": "python3"
  },
  "language_info": {
   "codemirror_mode": {
    "name": "ipython",
    "version": 3
   },
   "file_extension": ".py",
   "mimetype": "text/x-python",
   "name": "python",
   "nbconvert_exporter": "python",
   "pygments_lexer": "ipython3",
   "version": "3.12.1"
  }
 },
 "nbformat": 4,
 "nbformat_minor": 2
}
