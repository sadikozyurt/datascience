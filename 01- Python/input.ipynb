{
 "cells": [
  {
   "cell_type": "code",
   "execution_count": 2,
   "metadata": {},
   "outputs": [
    {
     "name": "stdout",
     "output_type": "stream",
     "text": [
      "Girdiğiniz iki sayının toplamı:  1004\n"
     ]
    }
   ],
   "source": [
    "a=input(\"1. Sayıyı Giriniz: \")\n",
    "b=input(\"2. Sayıyı Giriniz: \")\n",
    "c=a+b\n",
    "print(\"Girdiğiniz iki sayının toplamı: \",c)"
   ]
  },
  {
   "cell_type": "code",
   "execution_count": 6,
   "metadata": {},
   "outputs": [
    {
     "name": "stdout",
     "output_type": "stream",
     "text": [
      "Girdiğiniz iki sayıdan en büyüğü:  60\n"
     ]
    }
   ],
   "source": [
    "a=input(\"1. Sayıyı Giriniz: \")\n",
    "b=input(\"2. Sayıyı Giriniz: \")\n",
    "print(\"Girdiğiniz iki sayıdan en büyüğü: \",max(a,b))"
   ]
  },
  {
   "cell_type": "code",
   "execution_count": 11,
   "metadata": {},
   "outputs": [
    {
     "name": "stdout",
     "output_type": "stream",
     "text": [
      "Sonuç:  16777216\n"
     ]
    }
   ],
   "source": [
    "a=int(input(\"Üstü Alınacak Sayıyı Giriniz: \"))\n",
    "b=int(input(\"Sayının kaçıncı dereceden üstünün alınmasını istiyorsunuz: \"))\n",
    "print(\"Sonuç: \",pow(a,b))"
   ]
  },
  {
   "cell_type": "code",
   "execution_count": 31,
   "metadata": {},
   "outputs": [
    {
     "name": "stdout",
     "output_type": "stream",
     "text": [
      "240 saniye 4.0 dakikadır.\n",
      "240 saniye 4.0 dakikadır.\n",
      "4\n"
     ]
    }
   ],
   "source": [
    "saniye=int(input (\"Kaç saniyenin dakika cinsini hesaplamak istiyorsunuz: \"))\n",
    "dakika=saniye/60\n",
    "print(saniye, \"saniye\", dakika, \"dakikadır.\") #alttaki ile aynıdır.\n",
    "sonuc=\"{} saniye {} dakikadır.\".format(saniye,dakika)\n",
    "print(sonuc)\n",
    "print(round(dakika))"
   ]
  },
  {
   "cell_type": "code",
   "execution_count": 37,
   "metadata": {},
   "outputs": [
    {
     "name": "stdout",
     "output_type": "stream",
     "text": [
      "dairenin alanı: 314.0\n"
     ]
    }
   ],
   "source": [
    "yaricap=int(input(\"dairenin yarıçapı: \"))\n",
    "# pi=3.14 bu kısım yazılsa 3.14 alır. yazılmazsa uzun şekli ile kendi pi değeri ile hesaplar.\n",
    "alan=pi*pow(yaricap,2)\n",
    "#alan=pi*(yaricap**2) olarak da formül hesaplanabilir\n",
    "print(\"dairenin alanı:\", alan)"
   ]
  },
  {
   "cell_type": "code",
   "execution_count": 48,
   "metadata": {},
   "outputs": [
    {
     "name": "stdout",
     "output_type": "stream",
     "text": [
      "1 saat ve 30 dakika ve 5 saniye\n"
     ]
    }
   ],
   "source": [
    "#5404 girilebilir saniye cinsinden\n",
    "saniye=int(input(\"Saniye: \"))\n",
    "dakika=int(saniye/60)\n",
    "saat=int(dakika/60)\n",
    "tamdakika=floor(dakika)\n",
    "tamsaat=floor(saat)\n",
    "kalansaniye=saniye-(tamdakika*60)\n",
    "kalandakika=dakika-(tamsaat*60)\n",
    "print(saat,\"saat ve\",kalandakika,\"dakika ve\",kalansaniye,\"saniye\")"
   ]
  }
 ],
 "metadata": {
  "kernelspec": {
   "display_name": "base",
   "language": "python",
   "name": "python3"
  },
  "language_info": {
   "codemirror_mode": {
    "name": "ipython",
    "version": 3
   },
   "file_extension": ".py",
   "mimetype": "text/x-python",
   "name": "python",
   "nbconvert_exporter": "python",
   "pygments_lexer": "ipython3",
   "version": "3.11.5"
  }
 },
 "nbformat": 4,
 "nbformat_minor": 2
}
