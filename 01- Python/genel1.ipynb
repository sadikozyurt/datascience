{
 "cells": [
  {
   "cell_type": "markdown",
   "metadata": {},
   "source": [
    "Bir listedeki çift sayıları filtreleyin."
   ]
  },
  {
   "cell_type": "code",
   "execution_count": 48,
   "metadata": {},
   "outputs": [
    {
     "data": {
      "text/plain": [
       "[2, 4, 6, 8, 0]"
      ]
     },
     "execution_count": 48,
     "metadata": {},
     "output_type": "execute_result"
    }
   ],
   "source": [
    "list = [1,2,3,4,5,6,7,8,9,0]\n",
    "çift_list = []\n",
    "\n",
    "x = 0\n",
    "\n",
    "while x < len(list):\n",
    "    if list[x]%2 == 0:\n",
    "        çift_list.append(list[x])\n",
    "       \n",
    "    x += 1\n",
    "\n",
    "çift_list"
   ]
  },
  {
   "cell_type": "markdown",
   "metadata": {},
   "source": [
    "Bir sözlük oluşturun ve içindeki anahtar-değer çiftlerini ekrana yazdırın."
   ]
  },
  {
   "cell_type": "code",
   "execution_count": 14,
   "metadata": {},
   "outputs": [
    {
     "name": "stdout",
     "output_type": "stream",
     "text": [
      "dict_items([('adı', 'ahmet'), ('soyadı', 'ayan')])\n"
     ]
    }
   ],
   "source": [
    "sözlük = {\"adı\":\"ahmet\",\"soyadı\":\"ayan\"}\n",
    "print(sözlük.items())"
   ]
  },
  {
   "cell_type": "markdown",
   "metadata": {},
   "source": [
    "Bir sözlükte belirli bir anahtarın değerini bulun."
   ]
  },
  {
   "cell_type": "code",
   "execution_count": 9,
   "metadata": {},
   "outputs": [
    {
     "name": "stdout",
     "output_type": "stream",
     "text": [
      "ayan\n"
     ]
    }
   ],
   "source": [
    "sözlük = {\"adı\":\"ahmet\",\"soyadı\":\"ayan\"}\n",
    "\n",
    "print(sözlük.get(\"soyadı\"))"
   ]
  },
  {
   "cell_type": "markdown",
   "metadata": {},
   "source": [
    "Bir sözlükte belirli bir anahtar-değer çiftini silin."
   ]
  },
  {
   "cell_type": "code",
   "execution_count": 13,
   "metadata": {},
   "outputs": [
    {
     "name": "stdout",
     "output_type": "stream",
     "text": [
      "{'adı': 'ahmet', 'soyadı': 'ayan'}\n",
      "{'soyadı': 'ayan'}\n"
     ]
    }
   ],
   "source": [
    "sözlük = {\"adı\":\"ahmet\",\"soyadı\":\"ayan\"}\n",
    "\n",
    "print(sözlük)\n",
    "\n",
    "sözlük.pop(\"adı\")\n",
    "print(sözlük)"
   ]
  },
  {
   "cell_type": "markdown",
   "metadata": {},
   "source": [
    "Bir sözlükteki anahtarları ve değerleri ayrı ayrı ekrana yazdırın."
   ]
  },
  {
   "cell_type": "code",
   "execution_count": 15,
   "metadata": {},
   "outputs": [
    {
     "name": "stdout",
     "output_type": "stream",
     "text": [
      "dict_keys(['adı', 'soyadı'])\n",
      "dict_values(['ahmet', 'ayan'])\n"
     ]
    }
   ],
   "source": [
    "sözlük = {\"adı\":\"ahmet\",\"soyadı\":\"ayan\"}\n",
    "print(sözlük.keys())\n",
    "print(sözlük.values())"
   ]
  },
  {
   "cell_type": "markdown",
   "metadata": {},
   "source": [
    "İki sözlüğü birleştirerek yeni bir sözlük oluşturun."
   ]
  },
  {
   "cell_type": "code",
   "execution_count": 19,
   "metadata": {},
   "outputs": [
    {
     "data": {
      "text/plain": [
       "{'Adı': 'Ahmet',\n",
       " 'Soyadı': 'Yıldız',\n",
       " 'Doğum Yeri': 'Antalya',\n",
       " 'Doğum Tarihi': 1990}"
      ]
     },
     "execution_count": 19,
     "metadata": {},
     "output_type": "execute_result"
    }
   ],
   "source": [
    "id_1 = {\"Adı\":\"Ahmet\",\"Soyadı\":\"Yıldız\"}\n",
    "id_2 = {\"Doğum Yeri\":\"Antalya\",\"Doğum Tarihi\":1990}\n",
    "\n",
    "id_1.update(id_2)\n"
   ]
  },
  {
   "cell_type": "markdown",
   "metadata": {},
   "source": [
    "İki kümenin birleşimini bulun."
   ]
  },
  {
   "cell_type": "code",
   "execution_count": 28,
   "metadata": {},
   "outputs": [
    {
     "name": "stdout",
     "output_type": "stream",
     "text": [
      "Birleşim:  {1, 3.14, 'Sadık', (1, 2, 'Özyurt')}\n",
      "Kesişim:  {1}\n",
      "A Fark B:  {3.14, 'Sadık'}\n",
      "B Fark A:  {(1, 2, 'Özyurt')}\n",
      "\n",
      "\n",
      "Birleşim:  {1, 3.14, 'Sadık', (1, 2, 'Özyurt')}\n",
      "Kesişim:  {1}\n",
      "A Fark B:  {3.14, 'Sadık'}\n",
      "B Fark A:  {(1, 2, 'Özyurt')}\n"
     ]
    }
   ],
   "source": [
    "küme_1 = {1,3.14,True,\"Sadık\"}\n",
    "küme_2 = {1,(1,2,\"Özyurt\")}\n",
    "\n",
    "birleşim = küme_1 | küme_2\n",
    "kesişim = küme_1 & küme_2\n",
    "ab_fark = küme_1 - küme_2\n",
    "ba_fark = küme_2 - küme_1\n",
    "\n",
    "print(\"Birleşim: \", birleşim)\n",
    "print(\"Kesişim: \", kesişim)\n",
    "print(\"A Fark B: \", ab_fark)\n",
    "print(\"B Fark A: \", ba_fark)\n",
    "print(\"\\n\")\n",
    "\n",
    "birleşim = küme_1.union(küme_2)\n",
    "kesişim = küme_1.intersection(küme_2)\n",
    "ab_fark = küme_1.difference(küme_2)\n",
    "ba_fark = küme_2.difference(küme_1)\n",
    "\n",
    "print(\"Birleşim: \", birleşim)\n",
    "print(\"Kesişim: \", kesişim)\n",
    "print(\"A Fark B: \", ab_fark)\n",
    "print(\"B Fark A: \", ba_fark)\n"
   ]
  },
  {
   "cell_type": "markdown",
   "metadata": {},
   "source": [
    "Bir kümenin elemanlarını ekrana yazdırın."
   ]
  },
  {
   "cell_type": "code",
   "execution_count": 34,
   "metadata": {},
   "outputs": [
    {
     "name": "stdout",
     "output_type": "stream",
     "text": [
      "1\n",
      "3.14\n",
      "Sadık\n"
     ]
    }
   ],
   "source": [
    "küme_1 = {1,3.14,True,\"Sadık\"}\n",
    "print(list(küme_1)[0])\n",
    "print(list(küme_1)[1])\n",
    "print(list(küme_1)[2])\n"
   ]
  },
  {
   "cell_type": "markdown",
   "metadata": {},
   "source": [
    "Bir kümedeki eleman sayısını bulun."
   ]
  },
  {
   "cell_type": "code",
   "execution_count": 36,
   "metadata": {},
   "outputs": [
    {
     "name": "stdout",
     "output_type": "stream",
     "text": [
      "3\n"
     ]
    }
   ],
   "source": [
    "küme_1 = {1,3.14,True,\"Sadık\"} #True ile 1 tek elaman sayıldığı için eleman sayısı 4 değil 3 çıkar\n",
    "print(len(list(küme_1)))"
   ]
  },
  {
   "cell_type": "markdown",
   "metadata": {},
   "source": [
    "İki tuple'ı birleştirerek yeni bir tuple oluşturun."
   ]
  },
  {
   "cell_type": "code",
   "execution_count": 39,
   "metadata": {},
   "outputs": [
    {
     "data": {
      "text/plain": [
       "(1, 2, 3, 4, 5, 6)"
      ]
     },
     "execution_count": 39,
     "metadata": {},
     "output_type": "execute_result"
    }
   ],
   "source": [
    "tuple_1 = (1,2,3)\n",
    "tuple_2 = (4,5,6)\n",
    "tuple = tuple_1 + tuple_2\n",
    "tuple"
   ]
  },
  {
   "cell_type": "markdown",
   "metadata": {},
   "source": [
    "Bir tuple'ın belirli bir elemanının indeksini bulun."
   ]
  },
  {
   "cell_type": "code",
   "execution_count": 40,
   "metadata": {},
   "outputs": [
    {
     "data": {
      "text/plain": [
       "1"
      ]
     },
     "execution_count": 40,
     "metadata": {},
     "output_type": "execute_result"
    }
   ],
   "source": [
    "tuple_1 = (1,2,3)\n",
    "tuple_1.index(2)"
   ]
  },
  {
   "cell_type": "code",
   "execution_count": 3,
   "metadata": {},
   "outputs": [
    {
     "name": "stdout",
     "output_type": "stream",
     "text": [
      "ABDULHAMIT HAN MAH. ABDULLAH EDIP CAD. NO:88 ONIKIŞUBAT / KAHRAMANMARAŞ\n"
     ]
    }
   ],
   "source": [
    "a=\"Abdulhamit Han Mah. Abdullah Edip Cad. No:88 Onikişubat / Kahramanmaraş\"\n",
    "print(a.upper())"
   ]
  },
  {
   "cell_type": "code",
   "execution_count": null,
   "metadata": {},
   "outputs": [],
   "source": []
  }
 ],
 "metadata": {
  "kernelspec": {
   "display_name": "Python 3",
   "language": "python",
   "name": "python3"
  },
  "language_info": {
   "codemirror_mode": {
    "name": "ipython",
    "version": 3
   },
   "file_extension": ".py",
   "mimetype": "text/x-python",
   "name": "python",
   "nbconvert_exporter": "python",
   "pygments_lexer": "ipython3",
   "version": "3.12.1"
  }
 },
 "nbformat": 4,
 "nbformat_minor": 2
}
