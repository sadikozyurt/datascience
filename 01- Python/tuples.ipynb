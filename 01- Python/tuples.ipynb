{
 "cells": [
  {
   "cell_type": "code",
   "execution_count": 2,
   "metadata": {},
   "outputs": [
    {
     "name": "stdout",
     "output_type": "stream",
     "text": [
      "sad\n"
     ]
    }
   ],
   "source": [
    "kelime = input(\"Kelime: \")\n",
    "a = kelime[0]\n",
    "b = kelime[1]\n",
    "c = kelime[2]\n",
    "\n",
    "print(a+b+c)\n"
   ]
  },
  {
   "cell_type": "code",
   "execution_count": 15,
   "metadata": {},
   "outputs": [
    {
     "name": "stdout",
     "output_type": "stream",
     "text": [
      "sa \n",
      "fdf\n"
     ]
    }
   ],
   "source": [
    "# Aralarında boşluk bırakılarak girilen iki kelimelik bir giriş için her kelimenin ilk üç harfini yazdıran program\n",
    "\n",
    "giriş = input(\"Aralarında boşluk bırakarak iki kelime yazınız: \")\n",
    "liste = list(giriş)\n",
    "boşluk_index=liste.index(\" \")\n",
    "# ilk_kelime = liste [0:boşluk_index]\n",
    "# ikinci_kelime = liste [boşluk_index + 1:len(liste)]\n",
    "print (liste [0] +liste [1] +liste [2])\n",
    "print(liste [boşluk_index + 1] + liste [boşluk_index + 2] + liste [boşluk_index + 3])\n"
   ]
  },
  {
   "cell_type": "code",
   "execution_count": 16,
   "metadata": {},
   "outputs": [
    {
     "name": "stdout",
     "output_type": "stream",
     "text": [
      "autrldnedmiidieiioaaeaa\n"
     ]
    }
   ],
   "source": [
    "giriş = input (\"kelime\")\n",
    "a = giriş [0:len(giriş):2]\n",
    "print(a)"
   ]
  },
  {
   "cell_type": "code",
   "execution_count": 47,
   "metadata": {},
   "outputs": [
    {
     "name": "stdout",
     "output_type": "stream",
     "text": [
      "['dsdsd', 'fdfdd', 'dffdf', 'hhghgh', 'öçöç', 'öööd', 'df', 'fd']\n",
      "['d', 's', 'd']\n",
      "['f', 'd', 'f']\n",
      "['d', 'f', 'f']\n",
      "['h', 'h', 'g']\n",
      "['ö', 'ç', 'ö']\n",
      "['ö', 'ö', 'ö']\n",
      "['d', 'f']\n",
      "['f', 'd']\n"
     ]
    }
   ],
   "source": [
    "# Aralarında boşluk bırakılarak girilen istenilen uzunluktaki bir giriş için her kelimenin ilk 3 harfini gösteren program\n",
    "\n",
    "giriş = input(\"Aralarında boşluk bırakarak kelimeleri yazınız: \")\n",
    "liste =giriş.split()\n",
    "a=0\n",
    "print (liste)\n",
    "while a < len(liste):\n",
    "    b=list(liste[a])\n",
    "    print(b[0:3])\n",
    "    a=a+1"
   ]
  },
  {
   "cell_type": "code",
   "execution_count": 46,
   "metadata": {},
   "outputs": [
    {
     "name": "stdout",
     "output_type": "stream",
     "text": [
      "15\n"
     ]
    }
   ],
   "source": [
    "#girilen bir kelime dizisinde kaç kelimenin olduğunu bulan prg\n",
    "\n",
    "kelime_listesi = input (\"kelime dizisi: \")\n",
    "kelime_sayısı = kelime_listesi.count (\" \")\n",
    "print (kelime_sayısı)"
   ]
  },
  {
   "cell_type": "code",
   "execution_count": 49,
   "metadata": {},
   "outputs": [
    {
     "data": {
      "text/plain": [
       "3"
      ]
     },
     "execution_count": 49,
     "metadata": {},
     "output_type": "execute_result"
    }
   ],
   "source": [
    "str_2 = \"Techpro is the best coutherse in the world\"\n",
    "str_2.count(\"the\") #bölmeden \"the\" sayar"
   ]
  },
  {
   "cell_type": "code",
   "execution_count": 51,
   "metadata": {},
   "outputs": [
    {
     "data": {
      "text/plain": [
       "2"
      ]
     },
     "execution_count": 51,
     "metadata": {},
     "output_type": "execute_result"
    }
   ],
   "source": [
    "str_2 = \"Techpro is the best coutherse in the world\"\n",
    "str_2.split().count(\"the\") #bölüp \"the\" sayar"
   ]
  },
  {
   "cell_type": "code",
   "execution_count": 55,
   "metadata": {},
   "outputs": [
    {
     "ename": "TypeError",
     "evalue": "'int' object is not iterable",
     "output_type": "error",
     "traceback": [
      "\u001b[1;31m---------------------------------------------------------------------------\u001b[0m",
      "\u001b[1;31mTypeError\u001b[0m                                 Traceback (most recent call last)",
      "Cell \u001b[1;32mIn[55], line 1\u001b[0m\n\u001b[1;32m----> 1\u001b[0m \u001b[38;5;28;43mlist\u001b[39;49m\u001b[43m(\u001b[49m\u001b[38;5;241;43m123\u001b[39;49m\u001b[43m)\u001b[49m \u001b[38;5;66;03m#böyle hata verir\u001b[39;00m\n",
      "\u001b[1;31mTypeError\u001b[0m: 'int' object is not iterable"
     ]
    }
   ],
   "source": [
    "list(123) #böyle hata verir\n"
   ]
  },
  {
   "cell_type": "markdown",
   "metadata": {},
   "source": []
  },
  {
   "cell_type": "code",
   "execution_count": 56,
   "metadata": {},
   "outputs": [
    {
     "data": {
      "text/plain": [
       "['1', '2', '3']"
      ]
     },
     "execution_count": 56,
     "metadata": {},
     "output_type": "execute_result"
    }
   ],
   "source": [
    "list(str(123)) #str'ye çevirince hata vermez"
   ]
  },
  {
   "cell_type": "code",
   "execution_count": 58,
   "metadata": {},
   "outputs": [
    {
     "data": {
      "text/plain": [
       "['123']"
      ]
     },
     "execution_count": 58,
     "metadata": {},
     "output_type": "execute_result"
    }
   ],
   "source": []
  },
  {
   "cell_type": "code",
   "execution_count": 59,
   "metadata": {},
   "outputs": [
    {
     "data": {
      "text/plain": [
       "[]"
      ]
     },
     "execution_count": 59,
     "metadata": {},
     "output_type": "execute_result"
    }
   ],
   "source": [
    "a=list() #boş liste oluşturur\n",
    "a"
   ]
  },
  {
   "cell_type": "code",
   "execution_count": 60,
   "metadata": {},
   "outputs": [
    {
     "data": {
      "text/plain": [
       "['a', 'a']"
      ]
     },
     "execution_count": 60,
     "metadata": {},
     "output_type": "execute_result"
    }
   ],
   "source": [
    "b=list(\"aa\") #tek elemanlı str eleman listede list() şeklinde tanımlanırsa str parçalanarak listeye aktanır\n",
    "b"
   ]
  },
  {
   "cell_type": "code",
   "execution_count": 61,
   "metadata": {},
   "outputs": [
    {
     "ename": "TypeError",
     "evalue": "'int' object is not iterable",
     "output_type": "error",
     "traceback": [
      "\u001b[1;31m---------------------------------------------------------------------------\u001b[0m",
      "\u001b[1;31mTypeError\u001b[0m                                 Traceback (most recent call last)",
      "Cell \u001b[1;32mIn[61], line 1\u001b[0m\n\u001b[1;32m----> 1\u001b[0m c\u001b[38;5;241m=\u001b[39m\u001b[38;5;28;43mlist\u001b[39;49m\u001b[43m(\u001b[49m\u001b[38;5;241;43m123\u001b[39;49m\u001b[43m)\u001b[49m\n\u001b[0;32m      2\u001b[0m c\n",
      "\u001b[1;31mTypeError\u001b[0m: 'int' object is not iterable"
     ]
    }
   ],
   "source": [
    "c=list(123) #list( ) içinde iterable eleman olmalıdır. int iterable değildir. hata verir\n",
    "c"
   ]
  },
  {
   "cell_type": "code",
   "execution_count": 63,
   "metadata": {},
   "outputs": [
    {
     "data": {
      "text/plain": [
       "[]"
      ]
     },
     "execution_count": 63,
     "metadata": {},
     "output_type": "execute_result"
    }
   ],
   "source": [
    "d=list(list()) #listeler iterable olduğu için hata vermez\n",
    "d"
   ]
  },
  {
   "cell_type": "code",
   "execution_count": 64,
   "metadata": {},
   "outputs": [
    {
     "ename": "TypeError",
     "evalue": "'float' object is not iterable",
     "output_type": "error",
     "traceback": [
      "\u001b[1;31m---------------------------------------------------------------------------\u001b[0m",
      "\u001b[1;31mTypeError\u001b[0m                                 Traceback (most recent call last)",
      "Cell \u001b[1;32mIn[64], line 1\u001b[0m\n\u001b[1;32m----> 1\u001b[0m e\u001b[38;5;241m=\u001b[39m\u001b[38;5;28;43mlist\u001b[39;49m\u001b[43m(\u001b[49m\u001b[38;5;241;43m3.14\u001b[39;49m\u001b[43m)\u001b[49m\n\u001b[0;32m      2\u001b[0m e\n",
      "\u001b[1;31mTypeError\u001b[0m: 'float' object is not iterable"
     ]
    }
   ],
   "source": [
    "e=list(3.14) #float türü de iterable değildir. hata verir\n",
    "e"
   ]
  },
  {
   "cell_type": "code",
   "execution_count": 65,
   "metadata": {},
   "outputs": [
    {
     "ename": "TypeError",
     "evalue": "'bool' object is not iterable",
     "output_type": "error",
     "traceback": [
      "\u001b[1;31m---------------------------------------------------------------------------\u001b[0m",
      "\u001b[1;31mTypeError\u001b[0m                                 Traceback (most recent call last)",
      "Cell \u001b[1;32mIn[65], line 1\u001b[0m\n\u001b[1;32m----> 1\u001b[0m f\u001b[38;5;241m=\u001b[39m\u001b[38;5;28;43mlist\u001b[39;49m\u001b[43m(\u001b[49m\u001b[38;5;28;43;01mTrue\u001b[39;49;00m\u001b[43m)\u001b[49m\n\u001b[0;32m      2\u001b[0m f\n",
      "\u001b[1;31mTypeError\u001b[0m: 'bool' object is not iterable"
     ]
    }
   ],
   "source": [
    "f=list(True) #float türü de iterable değildir. hata verir\n",
    "f"
   ]
  },
  {
   "cell_type": "code",
   "execution_count": 2,
   "metadata": {},
   "outputs": [
    {
     "data": {
      "text/plain": [
       "[]"
      ]
     },
     "execution_count": 2,
     "metadata": {},
     "output_type": "execute_result"
    }
   ],
   "source": [
    "g=list(tuple()) #tuple iterable  olduğu için hata vermez.\n",
    "g"
   ]
  },
  {
   "cell_type": "code",
   "execution_count": 11,
   "metadata": {},
   "outputs": [
    {
     "name": "stdout",
     "output_type": "stream",
     "text": [
      "sadık\n",
      "True\n",
      "['s', 'a', 'd', 'ı', 'k']\n",
      "('s', 'a', 'd', 'ı', 'k')\n"
     ]
    }
   ],
   "source": [
    "\n",
    "\n"
   ]
  },
  {
   "cell_type": "code",
   "execution_count": 12,
   "metadata": {},
   "outputs": [
    {
     "name": "stdout",
     "output_type": "stream",
     "text": [
      "['kahramanmaraş', 'adana', 'bursa', 'antalya']\n",
      "['gaziantep', 'adana', 'bursa', 'antalya']\n"
     ]
    }
   ],
   "source": [
    "liste = [\"kahramanmaraş\", \"adana\", \"bursa\", \"antalya\"]\n",
    "print(liste)\n",
    "liste [0]=\"gaziantep\"\n",
    "print(liste)"
   ]
  },
  {
   "cell_type": "code",
   "execution_count": 13,
   "metadata": {},
   "outputs": [
    {
     "data": {
      "text/plain": [
       "[3, 4]"
      ]
     },
     "execution_count": 13,
     "metadata": {},
     "output_type": "execute_result"
    }
   ],
   "source": [
    "liste = [1,2,3,4,5]\n",
    "liste[2:4]"
   ]
  },
  {
   "cell_type": "code",
   "execution_count": 14,
   "metadata": {},
   "outputs": [
    {
     "name": "stdout",
     "output_type": "stream",
     "text": [
      "Çift Sayılar: [2, 4, 6, 8, 10]\n",
      "Tek Sayılar: [1, 3, 5, 7, 9]\n"
     ]
    }
   ],
   "source": [
    "\n",
    "#Verilen bir listedeki çift sayıları bulan bir Python programı yazın.\n",
    "\n",
    "sayilar = [1, 2, 3, 4, 5, 6, 7, 8, 9, 10]\n",
    "ciftler = []\n",
    "tekler = []\n",
    "\n",
    "for sayi in sayilar:\n",
    "    if sayi % 2 == 0:\n",
    "        ciftler.append(sayi)\n",
    "    else:\n",
    "        tekler.append(sayi)\n",
    "\n",
    "print(\"Çift Sayılar:\", ciftler)\n",
    "print(\"Tek Sayılar:\", tekler)\n"
   ]
  },
  {
   "cell_type": "code",
   "execution_count": 15,
   "metadata": {},
   "outputs": [
    {
     "name": "stdout",
     "output_type": "stream",
     "text": [
      "Ters Çevrilmiş Liste: ['e', 'd', 'c', 'b', 'a']\n"
     ]
    }
   ],
   "source": [
    "harfler = ['a', 'b', 'c', 'd', 'e']\n",
    "ters_cevrilmis = []\n",
    "\n",
    "for harf in reversed(harfler):\n",
    "    ters_cevrilmis.append(harf)\n",
    "\n",
    "print(\"Ters Çevrilmiş Liste:\", ters_cevrilmis)\n"
   ]
  },
  {
   "cell_type": "code",
   "execution_count": 17,
   "metadata": {},
   "outputs": [
    {
     "name": "stdout",
     "output_type": "stream",
     "text": [
      "Kareleri: [1, 4, 9, 16, 25]\n"
     ]
    }
   ],
   "source": [
    "# Bir listedeki sayıların karelerini alarak yeni bir liste oluşturan bir Python programı yazın.\n",
    "sayilar = [1, 2, 3, 4, 5]\n",
    "kareler = []\n",
    "\n",
    "for sayi in sayilar:\n",
    "    kareler.append(sayi ** 2)\n",
    "\n",
    "print(\"Kareleri:\", kareler)"
   ]
  },
  {
   "cell_type": "code",
   "execution_count": 22,
   "metadata": {},
   "outputs": [],
   "source": [
    "sayilar = [1, 2, 3, 4, 5]\n",
    "sayilar.sort(reverse=True)\n"
   ]
  },
  {
   "cell_type": "code",
   "execution_count": 23,
   "metadata": {},
   "outputs": [
    {
     "name": "stdout",
     "output_type": "stream",
     "text": [
      "[5, 4, 3, 2, 1]\n"
     ]
    }
   ],
   "source": [
    "print(sayilar)"
   ]
  },
  {
   "cell_type": "code",
   "execution_count": 36,
   "metadata": {},
   "outputs": [
    {
     "data": {
      "text/plain": [
       "33"
      ]
     },
     "execution_count": 36,
     "metadata": {},
     "output_type": "execute_result"
    }
   ],
   "source": [
    "#girlen listedeki en büyük sayıyı döndürür\n",
    "sayilar = [5, 2, 1, 33, 15]\n",
    "sayilar.sort(reverse=True)\n",
    "\n",
    "sayilar[0]"
   ]
  },
  {
   "cell_type": "code",
   "execution_count": 45,
   "metadata": {},
   "outputs": [
    {
     "data": {
      "text/plain": [
       "[7, 6, 3, 4]"
      ]
     },
     "execution_count": 45,
     "metadata": {},
     "output_type": "execute_result"
    }
   ],
   "source": [
    "#Verilen bir string listesindeki kelimelerin uzunluğunu içeren yeni bir liste oluşturan bir Python programı yazın.\n",
    "\n",
    "liste = [\"kelebek\", \"tavşan\", \"arı\", \"öküz\"]\n",
    "uzunluk=[]\n",
    "a=0\n",
    "while a < len(liste):\n",
    "    uzunluk.append(len(liste[a]))\n",
    "    a=a + 1\n",
    "uzunluk\n",
    "\n",
    "\n"
   ]
  },
  {
   "cell_type": "code",
   "execution_count": 58,
   "metadata": {},
   "outputs": [
    {
     "name": "stdout",
     "output_type": "stream",
     "text": [
      "2\n",
      "4\n",
      "6\n",
      "8\n"
     ]
    }
   ],
   "source": [
    "#Bir listedeki çift sayıların toplamını bulan bir Python programı yazın.\n",
    "\n",
    "liste =[1,2,3,4,5,6,7,8,9]\n",
    "a=0\n",
    "while a < len(liste):\n",
    "    b=liste[a]\n",
    "    if b%2 ==0:\n",
    "        print(b)\n",
    "    a=a + 1\n"
   ]
  },
  {
   "cell_type": "code",
   "execution_count": 59,
   "metadata": {},
   "outputs": [
    {
     "name": "stdout",
     "output_type": "stream",
     "text": [
      "Birleşik Liste: [1, 2, 3, 4, 5, 6]\n"
     ]
    }
   ],
   "source": [
    "liste1 = [1, 2, 3]\n",
    "liste2 = [4, 5, 6]\n",
    "birlesik_liste = liste1 + liste2\n",
    "print(\"Birleşik Liste:\", birlesik_liste)\n"
   ]
  },
  {
   "cell_type": "code",
   "execution_count": 3,
   "metadata": {},
   "outputs": [
    {
     "ename": "TypeError",
     "evalue": "tuple expected at most 1 argument, got 3",
     "output_type": "error",
     "traceback": [
      "\u001b[1;31m---------------------------------------------------------------------------\u001b[0m",
      "\u001b[1;31mTypeError\u001b[0m                                 Traceback (most recent call last)",
      "Cell \u001b[1;32mIn[3], line 1\u001b[0m\n\u001b[1;32m----> 1\u001b[0m \u001b[38;5;28;43mtuple\u001b[39;49m\u001b[43m(\u001b[49m\u001b[38;5;241;43m1\u001b[39;49m\u001b[43m,\u001b[49m\u001b[38;5;241;43m2\u001b[39;49m\u001b[43m,\u001b[49m\u001b[38;5;241;43m3\u001b[39;49m\u001b[43m)\u001b[49m\n",
      "\u001b[1;31mTypeError\u001b[0m: tuple expected at most 1 argument, got 3"
     ]
    }
   ],
   "source": [
    "tuple(1,2,3) # bu şekilde tuple oluşturamayız. En fazla 1 elemanı olabilir."
   ]
  },
  {
   "cell_type": "code",
   "execution_count": 30,
   "metadata": {},
   "outputs": [
    {
     "data": {
      "text/plain": [
       "(100, 200, 300)"
      ]
     },
     "execution_count": 30,
     "metadata": {},
     "output_type": "execute_result"
    }
   ],
   "source": [
    "my_tuple = (100, 200, 300)\n",
    "\n",
    "my_tuple"
   ]
  },
  {
   "cell_type": "code",
   "execution_count": 5,
   "metadata": {},
   "outputs": [
    {
     "data": {
      "text/plain": [
       "('s', 'a', 'd', 'ı', 'k')"
      ]
     },
     "execution_count": 5,
     "metadata": {},
     "output_type": "execute_result"
    }
   ],
   "source": [
    "a=\"sadık\"\n",
    "tuple(a)"
   ]
  },
  {
   "cell_type": "code",
   "execution_count": 31,
   "metadata": {},
   "outputs": [
    {
     "data": {
      "text/plain": [
       "(1, 2, 3)"
      ]
     },
     "execution_count": 31,
     "metadata": {},
     "output_type": "execute_result"
    }
   ],
   "source": [
    "a=(1,2,3)\n",
    "a\n"
   ]
  },
  {
   "cell_type": "code",
   "execution_count": 32,
   "metadata": {},
   "outputs": [
    {
     "data": {
      "text/plain": [
       "2"
      ]
     },
     "execution_count": 32,
     "metadata": {},
     "output_type": "execute_result"
    }
   ],
   "source": [
    "a[1] #tuple'daki 2. elemana bu şekilde ulaşırız."
   ]
  },
  {
   "cell_type": "code",
   "execution_count": 8,
   "metadata": {},
   "outputs": [
    {
     "data": {
      "text/plain": [
       "(1, 2, 's', 'a', 'd', 'ı', 'k')"
      ]
     },
     "execution_count": 8,
     "metadata": {},
     "output_type": "execute_result"
    }
   ],
   "source": [
    "#iki tuple listeler veya stringler gibi birleştirilebilir.\n",
    "\n",
    "a=[1,2]\n",
    "b=\"sadık\"\n",
    "c=tuple(a)+tuple(b)\n",
    "c"
   ]
  },
  {
   "cell_type": "code",
   "execution_count": 33,
   "metadata": {},
   "outputs": [
    {
     "data": {
      "text/plain": [
       "(20, 30, 40)"
      ]
     },
     "execution_count": 33,
     "metadata": {},
     "output_type": "execute_result"
    }
   ],
   "source": [
    "a=(10,20,30,40,50)\n",
    "a[1:4] #tuple slicing yapabiliriz.\n"
   ]
  },
  {
   "cell_type": "code",
   "execution_count": 34,
   "metadata": {},
   "outputs": [],
   "source": [
    "tuple=(100,200,300)"
   ]
  },
  {
   "cell_type": "code",
   "execution_count": 35,
   "metadata": {},
   "outputs": [
    {
     "name": "stdout",
     "output_type": "stream",
     "text": [
      "100 200 300\n"
     ]
    }
   ],
   "source": [
    "a=tuple[0]\n",
    "b=tuple[1]\n",
    "c=tuple[2]\n",
    "print(a,b,c)\n",
    "\n"
   ]
  },
  {
   "cell_type": "code",
   "execution_count": 36,
   "metadata": {},
   "outputs": [
    {
     "data": {
      "text/plain": [
       "4"
      ]
     },
     "execution_count": 36,
     "metadata": {},
     "output_type": "execute_result"
    }
   ],
   "source": [
    "a=(7,8,9,10)\n",
    "len(a)\n"
   ]
  },
  {
   "cell_type": "code",
   "execution_count": 28,
   "metadata": {},
   "outputs": [
    {
     "name": "stdout",
     "output_type": "stream",
     "text": [
      "a: 100\n",
      "b: 200\n",
      "c: 300\n"
     ]
    }
   ],
   "source": [
    "# Tuple oluştur\n",
    "my_tuple = (100, 200, 300)\n",
    "\n",
    "# Tuple elemanlarını unpack edin\n",
    "a, b, c = my_tuple\n",
    "\n",
    "# Sonucu yazdır\n",
    "print(\"a:\", a)\n",
    "print(\"b:\", b)\n",
    "print(\"c:\", c)\n"
   ]
  },
  {
   "cell_type": "code",
   "execution_count": 37,
   "metadata": {},
   "outputs": [],
   "source": [
    "# Boş bir dictionary oluştur\n",
    "empty_dict = {}\n",
    "\n",
    "# Elemanları olan bir dictionary oluştur\n",
    "my_dict = {'ad': 'Ahmet', 'yas': 25, 'meslek': 'mühendis'}\n"
   ]
  },
  {
   "cell_type": "code",
   "execution_count": 40,
   "metadata": {},
   "outputs": [
    {
     "data": {
      "text/plain": [
       "'Ahmet'"
      ]
     },
     "execution_count": 40,
     "metadata": {},
     "output_type": "execute_result"
    }
   ],
   "source": [
    "# Dictionary'deki bir elemana anahtar (key) kullanarak erişim\n",
    "isim = my_dict['ad']\n",
    "isim\n"
   ]
  },
  {
   "cell_type": "code",
   "execution_count": 46,
   "metadata": {},
   "outputs": [
    {
     "data": {
      "text/plain": [
       "{'sehir': 'İstanbul', 'yas': 26}"
      ]
     },
     "execution_count": 46,
     "metadata": {},
     "output_type": "execute_result"
    }
   ],
   "source": [
    "# Yeni bir eleman ekleme\n",
    "my_dict['sehir'] = 'İstanbul' #yoksa ekler, varsa günceller\n",
    "\n",
    "# Varolan bir elemanı güncelleme\n",
    "my_dict['yas'] = 26\n",
    "my_dict\n"
   ]
  },
  {
   "cell_type": "code",
   "execution_count": 47,
   "metadata": {},
   "outputs": [
    {
     "ename": "KeyError",
     "evalue": "'meslek'",
     "output_type": "error",
     "traceback": [
      "\u001b[1;31m---------------------------------------------------------------------------\u001b[0m",
      "\u001b[1;31mKeyError\u001b[0m                                  Traceback (most recent call last)",
      "Cell \u001b[1;32mIn[47], line 2\u001b[0m\n\u001b[0;32m      1\u001b[0m \u001b[38;5;66;03m# Bir elemanı silme\u001b[39;00m\n\u001b[1;32m----> 2\u001b[0m \u001b[38;5;28;01mdel\u001b[39;00m \u001b[43mmy_dict\u001b[49m\u001b[43m[\u001b[49m\u001b[38;5;124;43m'\u001b[39;49m\u001b[38;5;124;43mmeslek\u001b[39;49m\u001b[38;5;124;43m'\u001b[39;49m\u001b[43m]\u001b[49m\n\u001b[0;32m      4\u001b[0m my_dict\n",
      "\u001b[1;31mKeyError\u001b[0m: 'meslek'"
     ]
    }
   ],
   "source": [
    "# Bir elemanı silme\n",
    "del my_dict['meslek']\n",
    "\n",
    "my_dict\n",
    "\n",
    "\n",
    "# Tüm dictionary'yi temizleme\n",
    "my_dict.clear()\n"
   ]
  },
  {
   "cell_type": "code",
   "execution_count": 48,
   "metadata": {},
   "outputs": [],
   "source": [
    "# Tüm anahtarları almak\n",
    "keys = my_dict.keys()\n",
    "\n",
    "# Tüm değerleri almak\n",
    "values = my_dict.values()\n"
   ]
  },
  {
   "cell_type": "code",
   "execution_count": 49,
   "metadata": {},
   "outputs": [],
   "source": [
    "# İç içe dictionary örneği\n",
    "employees = {\n",
    "    'ahmet': {'yas': 30, 'maas': 5000},\n",
    "    'mehmet': {'yas': 25, 'maas': 4500}\n",
    "}\n"
   ]
  },
  {
   "cell_type": "code",
   "execution_count": 50,
   "metadata": {},
   "outputs": [],
   "source": [
    "# Bir anahtarın dictionary içinde olup olmadığını kontrol etme\n",
    "if 'ad' in my_dict:\n",
    "    print(\"Anahtar 'ad' dictionary içinde bulunuyor.\")\n",
    "\n",
    "# Bir değerin dictionary içinde olup olmadığını kontrol etme\n",
    "if '25' in my_dict.values():\n",
    "    print(\"Değer '25' dictionary içinde bulunuyor.\")\n"
   ]
  },
  {
   "cell_type": "code",
   "execution_count": null,
   "metadata": {},
   "outputs": [],
   "source": []
  }
 ],
 "metadata": {
  "kernelspec": {
   "display_name": "base",
   "language": "python",
   "name": "python3"
  },
  "language_info": {
   "codemirror_mode": {
    "name": "ipython",
    "version": 3
   },
   "file_extension": ".py",
   "mimetype": "text/x-python",
   "name": "python",
   "nbconvert_exporter": "python",
   "pygments_lexer": "ipython3",
   "version": "3.12.1"
  }
 },
 "nbformat": 4,
 "nbformat_minor": 2
}
