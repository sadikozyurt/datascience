{
 "cells": [
  {
   "cell_type": "code",
   "execution_count": 8,
   "metadata": {},
   "outputs": [
    {
     "name": "stdout",
     "output_type": "stream",
     "text": [
      "The value of x after swapping: dsds\n",
      "The value of y after swapping: ss\n"
     ]
    }
   ],
   "source": [
    "# To take inputs from the user\n",
    "x = input('Enter value of x: ')\n",
    "y = input('Enter value of y: ')\n",
    "\n",
    "# create a temporary variable and swap the values\n",
    "temp = x\n",
    "x = y\n",
    "y = temp\n",
    "\n",
    "print('The value of x after swapping: {}'.format(x))\n",
    "print('The value of y after swapping: {}'.format(y))"
   ]
  },
  {
   "cell_type": "code",
   "execution_count": 10,
   "metadata": {},
   "outputs": [
    {
     "name": "stdout",
     "output_type": "stream",
     "text": [
      "Mehmet Ahmet\n"
     ]
    }
   ],
   "source": [
    "\n",
    "position= input (\"Değişiklik Yapılacak Pozisyon: \")\n",
    "employee_1= input (\"Ayrılan Çalışan: \")\n",
    "employee_2= input (\"Gelen Çalışan: \")\n",
    "buffer = employee_1\n",
    "employee_1 = employee_2\n",
    "employee_2 = buffer\n",
    "print(employee_1, employee_2)"
   ]
  },
  {
   "cell_type": "code",
   "execution_count": 11,
   "metadata": {},
   "outputs": [
    {
     "name": "stdout",
     "output_type": "stream",
     "text": [
      "x = 10\n",
      "y = 5\n"
     ]
    }
   ],
   "source": [
    "#Python Program to Swap Two Variables\n",
    "\n",
    "x = 5\n",
    "y = 10\n",
    "\n",
    "x, y = y, x\n",
    "print(\"x =\", x)\n",
    "print(\"y =\", y)"
   ]
  },
  {
   "cell_type": "code",
   "execution_count": 21,
   "metadata": {},
   "outputs": [
    {
     "name": "stdout",
     "output_type": "stream",
     "text": [
      "1000 km 621.37 mildir.\n"
     ]
    }
   ],
   "source": [
    "#Python Program to Convert Kilometers to Miles\n",
    "\n",
    "kilometers = int(input(\"Mile çevrilmesini istediğiniz uzunluğu kilometre cinsinden yazınız. Örn:100\"))\n",
    "miles = round(kilometers / 1.609344,2) #rpound 2. parametresi \n",
    "print (kilometers,\"km\", miles, \"mildir.\")"
   ]
  },
  {
   "cell_type": "code",
   "execution_count": 27,
   "metadata": {},
   "outputs": [
    {
     "name": "stdout",
     "output_type": "stream",
     "text": [
      "0\n"
     ]
    }
   ],
   "source": [
    "# Python Program to Check if a Number is Odd or Even.\n",
    "\n",
    "number = int(input (\"Bir sayı giriniz: \"))\n",
    "if number < 0:\n",
    "    print (\"Negatif\")\n",
    "elif number> 0:\n",
    "    print(\"Pozitif\")\n",
    "else:\n",
    "    print (\"0\")"
   ]
  },
  {
   "cell_type": "code",
   "execution_count": 37,
   "metadata": {},
   "outputs": [
    {
     "name": "stdout",
     "output_type": "stream",
     "text": [
      "Odd\n"
     ]
    }
   ],
   "source": [
    "# Python Program to Check if a Number is Odd or Even\n",
    "\n",
    "number = int(input (\"Insert any number\"))\n",
    "remain = number%2\n",
    "if remain == 0:\n",
    "    print(\"Even\")\n",
    "else:\n",
    "    print(\"Odd\")\n"
   ]
  },
  {
   "cell_type": "code",
   "execution_count": 45,
   "metadata": {},
   "outputs": [
    {
     "name": "stdout",
     "output_type": "stream",
     "text": [
      "2023 is not a leap year\n"
     ]
    }
   ],
   "source": [
    "#Python Program to Check Leap Year\n",
    "\n",
    "#Any year that is evenly divisible by 4 is a leap year: for example, 1988, 1992, and 1996 are leap years\n",
    "\n",
    "year = int(input(\"Please insert year: \"))\n",
    "remain = year%4\n",
    "if remain == 0:\n",
    "    print(year, \"is a leap year\")\n",
    "else:\n",
    "    print(year, \"is not a leap year\")"
   ]
  },
  {
   "cell_type": "code",
   "execution_count": 47,
   "metadata": {},
   "outputs": [
    {
     "name": "stdout",
     "output_type": "stream",
     "text": [
      "girdiğiniz değerlerden en büyük olanı 6777 dır.\n"
     ]
    }
   ],
   "source": [
    "# Python Program to Find the Largest Among Three Numbers\n",
    "\n",
    "x = int (input(\"1. sayı: \"))\n",
    "y = int (input(\"2. sayı: \"))\n",
    "z = int (input(\"3. sayı: \"))\n",
    "\n",
    "max = max(x,y,z)\n",
    "print (\"girdiğiniz değerlerden en büyük olanı\", max, \"dır.\")\n"
   ]
  },
  {
   "cell_type": "code",
   "execution_count": 48,
   "metadata": {},
   "outputs": [
    {
     "name": "stdout",
     "output_type": "stream",
     "text": [
      "45 is not a prime number\n"
     ]
    }
   ],
   "source": [
    "# Python Program to Check Prime Number\n",
    "\n",
    "# PRIME NUMBER: a whole number greater than 1 that cannot be exactly divided by any whole number other than itself and 1 (e.g. 2, 3, 5, 7, 11).\n",
    "\n",
    "num = int(input(\"Enter a number: \"))\n",
    "\n",
    "# define a flag variable\n",
    "flag = False\n",
    "\n",
    "if num == 1:\n",
    "    print(num, \"is not a prime number\")\n",
    "elif num > 1:\n",
    "    # check for factors\n",
    "\n",
    "    # range(5) fonksiyonu, 5'e kadar olan sayıları yani 0,1,2,3,4 değerlerini ifade eder.\n",
    "    # range(2,5) fonksiyonu 2'den başlayıp 5'e kadar olan sayıları 2,3,4 değerlerini ifade eder.\n",
    "    # range(2,5,2) fonksiyonu ise 2'den başlayıp 5'e kadar 2'şer artırarak devam eder, 2,4 değerlerini ifade eder.\n",
    "\n",
    "    for i in range(2, num):\n",
    "        if (num % i) == 0:\n",
    "            # if factor is found, set flag to True\n",
    "            flag = True\n",
    "            # break out of loop\n",
    "            break\n",
    "\n",
    "    # check if flag is True\n",
    "    if flag:\n",
    "        print(num, \"is not a prime number\")\n",
    "    else:\n",
    "        print(num, \"is a prime number\")"
   ]
  },
  {
   "cell_type": "code",
   "execution_count": 52,
   "metadata": {},
   "outputs": [
    {
     "name": "stdout",
     "output_type": "stream",
     "text": [
      "120\n"
     ]
    }
   ],
   "source": [
    "# Python Program to Find the Factorial of a Number\n",
    "number = int (input(\"Insert a number: \"))\n",
    "i = 1\n",
    "fact = 1\n",
    "for i  in range(number):\n",
    "    i = i + 1\n",
    "    fact = fact * i\n",
    "print(fact)\n",
    " "
   ]
  },
  {
   "cell_type": "code",
   "execution_count": 53,
   "metadata": {},
   "outputs": [
    {
     "name": "stdout",
     "output_type": "stream",
     "text": [
      "The factorial of 7 is 5040\n"
     ]
    }
   ],
   "source": [
    "# Python program to find the factorial of a number provided by the user.\n",
    "\n",
    "# change the value for a different result\n",
    "num = 7\n",
    "\n",
    "# To take input from the user\n",
    "#num = int(input(\"Enter a number: \"))\n",
    "\n",
    "factorial = 1\n",
    "\n",
    "# check if the number is negative, positive or zero\n",
    "if num < 0:\n",
    "   print(\"Sorry, factorial does not exist for negative numbers\")\n",
    "elif num == 0:\n",
    "   print(\"The factorial of 0 is 1\")\n",
    "else:\n",
    "   for i in range(1,num + 1):\n",
    "       factorial = factorial*i\n",
    "   print(\"The factorial of\",num,\"is\",factorial)\n",
    "   \n"
   ]
  },
  {
   "cell_type": "code",
   "execution_count": 70,
   "metadata": {},
   "outputs": [
    {
     "name": "stdout",
     "output_type": "stream",
     "text": [
      "1 * 1 = 1\n",
      "2 * 1 = 2\n",
      "3 * 1 = 3\n",
      "4 * 1 = 4\n",
      "5 * 1 = 5\n",
      "6 * 1 = 6\n",
      "7 * 1 = 7\n",
      "8 * 1 = 8\n",
      "9 * 1 = 9\n"
     ]
    }
   ],
   "source": [
    "# Python Program to Display the multiplication Table\n",
    "\n",
    "x = 1\n",
    "y = 1\n",
    "\n",
    "          \n",
    "for x in range(x,10):\n",
    "        z = x * y\n",
    "        print(x,\"*\",y,\"=\",z)  \n",
    "\n"
   ]
  },
  {
   "cell_type": "code",
   "execution_count": 98,
   "metadata": {},
   "outputs": [
    {
     "name": "stdout",
     "output_type": "stream",
     "text": [
      "Bit1 is the LSB\n",
      "BCD Bit\n",
      "0    1\n",
      "0    2\n",
      "0    3\n",
      "0    4\n",
      "0    5\n",
      "0    6\n",
      "0    7\n",
      "0    8\n",
      "0    9\n",
      "0    10\n",
      "1    11\n"
     ]
    }
   ],
   "source": [
    "# Python Program to Convert Decimal to Binary\n",
    "\n",
    "dec = int (input (\"Decimal Number: \"))\n",
    "counter = 1\n",
    "bolum = dec\n",
    "print (\"Bit1 is the LSB\")\n",
    "print (\"BCD\", \"Bit\")\n",
    "while bolum > 0:\n",
    "    remain = bolum % 2\n",
    "    print (remain,\"  \", counter)\n",
    "    counter = counter + 1\n",
    "    bolum = int(bolum / 2)\n",
    "    \n",
    "    \n",
    "    \n",
    "\n"
   ]
  },
  {
   "cell_type": "code",
   "execution_count": 100,
   "metadata": {},
   "outputs": [
    {
     "name": "stdout",
     "output_type": "stream",
     "text": [
      "The decimal value of 344 is:\n",
      "0b101011000 in binary.\n",
      "0o530 in octal.\n",
      "0x158 in hexadecimal.\n"
     ]
    }
   ],
   "source": [
    "# Python program to convert decimal into other number systems\n",
    "dec = 344\n",
    "\n",
    "print(\"The decimal value of\", dec, \"is:\")\n",
    "print(bin(dec), \"in binary.\")\n",
    "print(oct(dec), \"in octal.\")\n",
    "print(hex(dec), \"in hexadecimal.\")\n"
   ]
  },
  {
   "cell_type": "code",
   "execution_count": 101,
   "metadata": {},
   "outputs": [
    {
     "name": "stdout",
     "output_type": "stream",
     "text": [
      "65\n"
     ]
    }
   ],
   "source": [
    "character = input (\"Insert the character: \")\n",
    "ascii = ord(character)\n",
    "print (ascii)"
   ]
  },
  {
   "cell_type": "code",
   "execution_count": 106,
   "metadata": {},
   "outputs": [
    {
     "name": "stdout",
     "output_type": "stream",
     "text": [
      "   November 2014\n",
      "Mo Tu We Th Fr Sa Su\n",
      "                1  2\n",
      " 3  4  5  6  7  8  9\n",
      "10 11 12 13 14 15 16\n",
      "17 18 19 20 21 22 23\n",
      "24 25 26 27 28 29 30\n",
      "\n"
     ]
    }
   ],
   "source": [
    "# Program to display calendar of the given month and year\n",
    "\n",
    "# importing calendar module\n",
    "import calendar\n",
    "\n",
    "yy = 2014  # year\n",
    "mm = 11    # month\n",
    "\n",
    "# To take month and year input from the user\n",
    "# yy = int(input(\"Enter year: \"))\n",
    "# mm = int(input(\"Enter month: \"))\n",
    "\n",
    "# display the calendar\n",
    "print(calendar.month(yy, mm))\n"
   ]
  },
  {
   "cell_type": "code",
   "execution_count": 1,
   "metadata": {},
   "outputs": [
    {
     "name": "stdout",
     "output_type": "stream",
     "text": [
      "['ahmet kara', 'mehmet ak', 'ali gök', 'veli al']\n"
     ]
    }
   ],
   "source": [
    "isim = [\"ahmet\", \"mehmet\", \"ali\", \"veli\"]\n",
    "soyisim = [\"kara\", \"ak\", \"gök\", \"al\"]\n",
    "kimlik = [isim[0] + \" \" + soyisim[0], isim[1] + \" \" + soyisim[1], isim[2] + \" \" + soyisim[2], isim[3] + \" \" + soyisim[3]]\n",
    "print (kimlik)"
   ]
  },
  {
   "cell_type": "code",
   "execution_count": 5,
   "metadata": {},
   "outputs": [
    {
     "name": "stdout",
     "output_type": "stream",
     "text": [
      "[1, 2, 3, 19, 23, 32, 34, 45, 56, 67, 78, 334]\n"
     ]
    }
   ],
   "source": [
    "liste = [34,1,56,334,23,2,3,19,67,78,32,45]\n",
    "liste.sort()\n",
    "print(liste)"
   ]
  },
  {
   "cell_type": "code",
   "execution_count": 8,
   "metadata": {},
   "outputs": [
    {
     "name": "stdout",
     "output_type": "stream",
     "text": [
      "[334, 78, 67, 56, 45, 34, 32, 23, 19, 3, 2, 1]\n"
     ]
    }
   ],
   "source": [
    "liste = [34,1,56,334,23,2,3,19,67,78,32,45]\n",
    "liste.sort(reverse=True)\n",
    "print(liste)"
   ]
  },
  {
   "cell_type": "code",
   "execution_count": 12,
   "metadata": {},
   "outputs": [
    {
     "name": "stdout",
     "output_type": "stream",
     "text": [
      "e: 2 i: 3 k: 0\n"
     ]
    }
   ],
   "source": [
    "harfler = [\"a\",\"e\",\"i\",\"o\",\"i\",\"u\",\"e\",\"i\",\"b\"]\n",
    "print(\"e:\", harfler.count(\"e\"), \"i:\", harfler.count(\"i\"), \"k:\", harfler.count(\"k\"))\n"
   ]
  }
 ],
 "metadata": {
  "kernelspec": {
   "display_name": "base",
   "language": "python",
   "name": "python3"
  },
  "language_info": {
   "codemirror_mode": {
    "name": "ipython",
    "version": 3
   },
   "file_extension": ".py",
   "mimetype": "text/x-python",
   "name": "python",
   "nbconvert_exporter": "python",
   "pygments_lexer": "ipython3",
   "version": "0.0.0"
  }
 },
 "nbformat": 4,
 "nbformat_minor": 2
}
