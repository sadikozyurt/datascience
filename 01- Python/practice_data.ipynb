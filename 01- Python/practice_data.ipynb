{
 "cells": [
  {
   "cell_type": "markdown",
   "metadata": {},
   "source": [
    " Bu veri seti, bir kitaplık kataloğunu temsil etmektedir ve farklı türdeki kitaplarla ilgili bilgiler içermektedir. Veri seti üzerinde çalışarak, Python'daki sözlük ve liste yönetimi ile ilgili pratik yapabilirsiniz."
   ]
  },
  {
   "cell_type": "markdown",
   "metadata": {},
   "source": [
    "Sorular\n",
    "\"1984\" kitabının yazarını nasıl bulabilirsiniz?\n",
    "\"Foundation\" kitabının sayfa sayısını nasıl elde edebilirsiniz?\n",
    "Tüm \"Bilim Kurgu\" kitaplarının isimlerini nasıl listeleyebilirsiniz?\n",
    "kitaplik_katalogu içindeki tüm kategorileri (Romanlar, Bilim Kurgu, vb.) nasıl listeleyebilirsiniz?\n",
    "\"Sefiller\" kitabının dilini nasıl güncelleyebilirsiniz? (Varsayalım ki bu kitabın yeni bir İngilizce çevirisi yapıldı.)\n",
    "Yeni bir kitap kategorisi eklemek istiyorsunuz, örneğin \"Felsefe\" ve bu kategoriye ilk kitabı \"Simyacı\" adıyla ekleyin. Bu kitabın yazarı \"Paulo Coelho\", yayın yılı 1988, sayfa sayısı 208, ve dili \"Portekizce\" olsun.\n",
    "\"Leonardo da Vinci\" kitabının tüm bilgilerine nasıl erişebilirsiniz?\n",
    "Tüm kitapların toplam sayfa sayısını nasıl hesaplayabilirsiniz?\n",
    "Hangi kitapların yayın yılı 2000 yılından sonra olmuş, bunları nasıl bulabilirsiniz?\n",
    "\"Bilim Kurgu\" kategorisindeki kitapların ortalama sayfa sayısını nasıl hesaplayabilirsiniz?"
   ]
  },
  {
   "cell_type": "code",
   "execution_count": 2,
   "metadata": {},
   "outputs": [],
   "source": [
    "kitaplik_katalogu = {\n",
    "    \"Romanlar\": {\n",
    "        \"1984\": {\n",
    "            \"Yazar\": \"George Orwell\",\n",
    "            \"Yayın Yılı\": 1949,\n",
    "            \"Sayfa Sayısı\": 328,\n",
    "            \"Dil\": \"İngilizce\"\n",
    "        },\n",
    "        \"Sefiller\": {\n",
    "            \"Yazar\": \"Victor Hugo\",\n",
    "            \"Yayın Yılı\": 1862,\n",
    "            \"Sayfa Sayısı\": 1463,\n",
    "            \"Dil\": \"Fransızca\"\n",
    "        }\n",
    "    },\n",
    "    \"Bilim Kurgu\": {\n",
    "        \"Dune\": {\n",
    "            \"Yazar\": \"Frank Herbert\",\n",
    "            \"Yayın Yılı\": 1965,\n",
    "            \"Sayfa Sayısı\": 412,\n",
    "            \"Dil\": \"İngilizce\"\n",
    "        },\n",
    "        \"Foundation\": {\n",
    "            \"Yazar\": \"Isaac Asimov\",\n",
    "            \"Yayın Yılı\": 1951,\n",
    "            \"Sayfa Sayısı\": 255,\n",
    "            \"Dil\": \"İngilizce\"\n",
    "        }\n",
    "    },\n",
    "    \"Biyografi\": {\n",
    "        \"Steve Jobs\": {\n",
    "            \"Yazar\": \"Walter Isaacson\",\n",
    "            \"Yayın Yılı\": 2011,\n",
    "            \"Sayfa Sayısı\": 656,\n",
    "            \"Dil\": \"İngilizce\"\n",
    "        },\n",
    "        \"Leonardo da Vinci\": {\n",
    "            \"Yazar\": \"Walter Isaacson\",\n",
    "            \"Yayın Yılı\": 2017,\n",
    "            \"Sayfa Sayısı\": 624,\n",
    "            \"Dil\": \"İngilizce\"\n",
    "        }\n",
    "    },\n",
    "    \"Tarih\": {\n",
    "        \"Guns, Germs, and Steel\": {\n",
    "            \"Yazar\": \"Jared Diamond\",\n",
    "            \"Yayın Yılı\": 1997,\n",
    "            \"Sayfa Sayısı\": 480,\n",
    "            \"Dil\": \"İngilizce\"\n",
    "        },\n",
    "        \"A Short History of Nearly Everything\": {\n",
    "            \"Yazar\": \"Bill Bryson\",\n",
    "            \"Yayın Yılı\": 2003,\n",
    "            \"Sayfa Sayısı\": 544,\n",
    "            \"Dil\": \"İngilizce\"\n",
    "        }\n",
    "    }\n",
    "}\n"
   ]
  },
  {
   "cell_type": "code",
   "execution_count": 3,
   "metadata": {},
   "outputs": [
    {
     "name": "stdout",
     "output_type": "stream",
     "text": [
      "1984 kitabının yazarı: George Orwell\n"
     ]
    }
   ],
   "source": [
    "# \"1984\" kitabının yazarını bulma\n",
    "yazar = kitaplik_katalogu[\"Romanlar\"][\"1984\"][\"Yazar\"]\n",
    "print(\"1984 kitabının yazarı:\", yazar)"
   ]
  },
  {
   "cell_type": "code",
   "execution_count": 4,
   "metadata": {},
   "outputs": [
    {
     "name": "stdout",
     "output_type": "stream",
     "text": [
      "Foundation kitabının sayfa sayısı: 255\n"
     ]
    }
   ],
   "source": [
    "# \"Foundation\" kitabının sayfa sayısını elde etme\n",
    "sayfa_sayisi = kitaplik_katalogu[\"Bilim Kurgu\"][\"Foundation\"][\"Sayfa Sayısı\"]\n",
    "print(\"Foundation kitabının sayfa sayısı:\", sayfa_sayisi)"
   ]
  },
  {
   "cell_type": "code",
   "execution_count": 7,
   "metadata": {},
   "outputs": [
    {
     "name": "stdout",
     "output_type": "stream",
     "text": [
      "Bilim Kurgu Kitapları:\n",
      "- Dune\n",
      "- Foundation\n"
     ]
    }
   ],
   "source": [
    "# \"Bilim Kurgu\" kitaplarının isimlerini listeleme\n",
    "bilim_kurgu_kitaplar = kitaplik_katalogu[\"Bilim Kurgu\"]\n",
    "bilim_kurgu_isimler = list(bilim_kurgu_kitaplar.keys())\n",
    "\n",
    "print(\"Bilim Kurgu Kitapları:\")\n",
    "for kitap in bilim_kurgu_isimler:\n",
    "    print(\"-\", kitap)\n"
   ]
  },
  {
   "cell_type": "code",
   "execution_count": 8,
   "metadata": {},
   "outputs": [
    {
     "name": "stdout",
     "output_type": "stream",
     "text": [
      "Tüm Kategoriler:\n",
      "- Romanlar\n",
      "- Bilim Kurgu\n",
      "- Biyografi\n",
      "- Tarih\n"
     ]
    }
   ],
   "source": [
    "# Tüm kategorileri listeleme\n",
    "kategoriler = list(kitaplik_katalogu.keys())\n",
    "\n",
    "print(\"Tüm Kategoriler:\")\n",
    "for kategori in kategoriler:\n",
    "    print(\"-\", kategori)\n"
   ]
  },
  {
   "cell_type": "code",
   "execution_count": 13,
   "metadata": {},
   "outputs": [
    {
     "name": "stdout",
     "output_type": "stream",
     "text": [
      "Sefiller kitabının güncellenmiş dil bilgisi: İngilizce\n"
     ]
    }
   ],
   "source": [
    "# \"Sefiller\" kitabının dilini güncelleme\n",
    "kitaplik_katalogu[\"Romanlar\"][\"Sefiller\"][\"Dil\"] = \"İngilizce\"\n",
    "\n",
    "print(\"Sefiller kitabının güncellenmiş dil bilgisi:\", kitaplik_katalogu[\"Romanlar\"][\"Sefiller\"][\"Dil\"])\n"
   ]
  },
  {
   "cell_type": "code",
   "execution_count": 14,
   "metadata": {},
   "outputs": [
    {
     "data": {
      "text/plain": [
       "{'Romanlar': {'1984': {'Yazar': 'George Orwell',\n",
       "   'Yayın Yılı': 1949,\n",
       "   'Sayfa Sayısı': 328,\n",
       "   'Dil': 'İngilizce'},\n",
       "  'Sefiller': {'Yazar': 'Victor Hugo',\n",
       "   'Yayın Yılı': 1862,\n",
       "   'Sayfa Sayısı': 1463,\n",
       "   'Dil': 'İngilizce'}},\n",
       " 'Bilim Kurgu': {'Dune': {'Yazar': 'Frank Herbert',\n",
       "   'Yayın Yılı': 1965,\n",
       "   'Sayfa Sayısı': 412,\n",
       "   'Dil': 'İngilizce'},\n",
       "  'Foundation': {'Yazar': 'Isaac Asimov',\n",
       "   'Yayın Yılı': 1951,\n",
       "   'Sayfa Sayısı': 255,\n",
       "   'Dil': 'İngilizce'}},\n",
       " 'Biyografi': {'Steve Jobs': {'Yazar': 'Walter Isaacson',\n",
       "   'Yayın Yılı': 2011,\n",
       "   'Sayfa Sayısı': 656,\n",
       "   'Dil': 'İngilizce'},\n",
       "  'Leonardo da Vinci': {'Yazar': 'Walter Isaacson',\n",
       "   'Yayın Yılı': 2017,\n",
       "   'Sayfa Sayısı': 624,\n",
       "   'Dil': 'İngilizce'}},\n",
       " 'Tarih': {'Guns, Germs, and Steel': {'Yazar': 'Jared Diamond',\n",
       "   'Yayın Yılı': 1997,\n",
       "   'Sayfa Sayısı': 480,\n",
       "   'Dil': 'İngilizce'},\n",
       "  'A Short History of Nearly Everything': {'Yazar': 'Bill Bryson',\n",
       "   'Yayın Yılı': 2003,\n",
       "   'Sayfa Sayısı': 544,\n",
       "   'Dil': 'İngilizce'}}}"
      ]
     },
     "execution_count": 14,
     "metadata": {},
     "output_type": "execute_result"
    }
   ],
   "source": [
    "kitaplik_katalogu"
   ]
  },
  {
   "cell_type": "code",
   "execution_count": 15,
   "metadata": {},
   "outputs": [
    {
     "name": "stdout",
     "output_type": "stream",
     "text": [
      "Felsefe kategorisi altındaki Simyacı kitabı bilgileri:\n",
      "{'Yazar': 'Paulo Coelho', 'Yayın Yılı': 1988, 'Sayfa Sayısı': 208, 'Dil': 'Portekizce'}\n"
     ]
    }
   ],
   "source": [
    "# Yeni kategori ve kitabı ekleme\n",
    "kitaplik_katalogu[\"Felsefe\"] = {\n",
    "    \"Simyacı\": {\n",
    "        \"Yazar\": \"Paulo Coelho\",\n",
    "        \"Yayın Yılı\": 1988,\n",
    "        \"Sayfa Sayısı\": 208,\n",
    "        \"Dil\": \"Portekizce\"\n",
    "    }\n",
    "}\n",
    "\n",
    "# Eklenen kitap bilgilerini kontrol etme\n",
    "print(\"Felsefe kategorisi altındaki Simyacı kitabı bilgileri:\")\n",
    "print(kitaplik_katalogu[\"Felsefe\"][\"Simyacı\"])\n"
   ]
  },
  {
   "cell_type": "code",
   "execution_count": 16,
   "metadata": {},
   "outputs": [
    {
     "data": {
      "text/plain": [
       "{'Romanlar': {'1984': {'Yazar': 'George Orwell',\n",
       "   'Yayın Yılı': 1949,\n",
       "   'Sayfa Sayısı': 328,\n",
       "   'Dil': 'İngilizce'},\n",
       "  'Sefiller': {'Yazar': 'Victor Hugo',\n",
       "   'Yayın Yılı': 1862,\n",
       "   'Sayfa Sayısı': 1463,\n",
       "   'Dil': 'İngilizce'}},\n",
       " 'Bilim Kurgu': {'Dune': {'Yazar': 'Frank Herbert',\n",
       "   'Yayın Yılı': 1965,\n",
       "   'Sayfa Sayısı': 412,\n",
       "   'Dil': 'İngilizce'},\n",
       "  'Foundation': {'Yazar': 'Isaac Asimov',\n",
       "   'Yayın Yılı': 1951,\n",
       "   'Sayfa Sayısı': 255,\n",
       "   'Dil': 'İngilizce'}},\n",
       " 'Biyografi': {'Steve Jobs': {'Yazar': 'Walter Isaacson',\n",
       "   'Yayın Yılı': 2011,\n",
       "   'Sayfa Sayısı': 656,\n",
       "   'Dil': 'İngilizce'},\n",
       "  'Leonardo da Vinci': {'Yazar': 'Walter Isaacson',\n",
       "   'Yayın Yılı': 2017,\n",
       "   'Sayfa Sayısı': 624,\n",
       "   'Dil': 'İngilizce'}},\n",
       " 'Tarih': {'Guns, Germs, and Steel': {'Yazar': 'Jared Diamond',\n",
       "   'Yayın Yılı': 1997,\n",
       "   'Sayfa Sayısı': 480,\n",
       "   'Dil': 'İngilizce'},\n",
       "  'A Short History of Nearly Everything': {'Yazar': 'Bill Bryson',\n",
       "   'Yayın Yılı': 2003,\n",
       "   'Sayfa Sayısı': 544,\n",
       "   'Dil': 'İngilizce'}},\n",
       " 'Felsefe': {'Simyacı': {'Yazar': 'Paulo Coelho',\n",
       "   'Yayın Yılı': 1988,\n",
       "   'Sayfa Sayısı': 208,\n",
       "   'Dil': 'Portekizce'}}}"
      ]
     },
     "execution_count": 16,
     "metadata": {},
     "output_type": "execute_result"
    }
   ],
   "source": [
    "kitaplik_katalogu"
   ]
  },
  {
   "cell_type": "code",
   "execution_count": 17,
   "metadata": {},
   "outputs": [
    {
     "name": "stdout",
     "output_type": "stream",
     "text": [
      "Leonardo da Vinci kitabının tüm bilgileri:\n",
      "{'Yazar': 'Walter Isaacson', 'Yayın Yılı': 2017, 'Sayfa Sayısı': 624, 'Dil': 'İngilizce'}\n"
     ]
    }
   ],
   "source": [
    "# \"Leonardo da Vinci\" kitabının tüm bilgilerine erişme\n",
    "leonardo_kitabi = kitaplik_katalogu[\"Biyografi\"][\"Leonardo da Vinci\"]\n",
    "\n",
    "print(\"Leonardo da Vinci kitabının tüm bilgileri:\")\n",
    "print(leonardo_kitabi)\n"
   ]
  },
  {
   "cell_type": "code",
   "execution_count": 18,
   "metadata": {},
   "outputs": [
    {
     "name": "stdout",
     "output_type": "stream",
     "text": [
      "Tüm kitapların toplam sayfa sayısı: 4970\n"
     ]
    }
   ],
   "source": [
    "# Tüm kitapların toplam sayfa sayısını hesaplama\n",
    "toplam_sayfa_sayisi = 0\n",
    "\n",
    "for kategori in kitaplik_katalogu.values():\n",
    "    for kitap in kategori.values():\n",
    "        toplam_sayfa_sayisi += kitap[\"Sayfa Sayısı\"]\n",
    "\n",
    "print(\"Tüm kitapların toplam sayfa sayısı:\", toplam_sayfa_sayisi)\n"
   ]
  },
  {
   "cell_type": "code",
   "execution_count": 19,
   "metadata": {},
   "outputs": [
    {
     "name": "stdout",
     "output_type": "stream",
     "text": [
      "Steve Jobs kitabı (Biyografi kategorisi altında) yayın yılı 2000'den sonradır.\n",
      "Leonardo da Vinci kitabı (Biyografi kategorisi altında) yayın yılı 2000'den sonradır.\n",
      "A Short History of Nearly Everything kitabı (Tarih kategorisi altında) yayın yılı 2000'den sonradır.\n"
     ]
    }
   ],
   "source": [
    "# Yayın yılı 2000'den sonraki kitapları bulma\n",
    "for kategori, kitaplar in kitaplik_katalogu.items():\n",
    "    for kitap_adı, kitap_bilgileri in kitaplar.items():\n",
    "        if kitap_bilgileri[\"Yayın Yılı\"] > 2000:\n",
    "            print(f\"{kitap_adı} kitabı ({kategori} kategorisi altında) yayın yılı 2000'den sonradır.\")\n"
   ]
  },
  {
   "cell_type": "code",
   "execution_count": 20,
   "metadata": {},
   "outputs": [
    {
     "name": "stdout",
     "output_type": "stream",
     "text": [
      "Bilim Kurgu kategorisindeki kitapların ortalama sayfa sayısı: 333.5\n"
     ]
    }
   ],
   "source": [
    "# Bilim Kurgu kategorisindeki kitapların ortalama sayfa sayısını hesaplama\n",
    "bilim_kurgu_kitaplar = kitaplik_katalogu[\"Bilim Kurgu\"]\n",
    "toplam_sayfa_sayisi = 0\n",
    "kitap_sayisi = len(bilim_kurgu_kitaplar)\n",
    "\n",
    "for kitap in bilim_kurgu_kitaplar.values():\n",
    "    toplam_sayfa_sayisi += kitap[\"Sayfa Sayısı\"]\n",
    "\n",
    "ortalama_sayfa_sayisi = toplam_sayfa_sayisi / kitap_sayisi\n",
    "print(\"Bilim Kurgu kategorisindeki kitapların ortalama sayfa sayısı:\", ortalama_sayfa_sayisi)\n"
   ]
  }
 ],
 "metadata": {
  "kernelspec": {
   "display_name": "Python 3",
   "language": "python",
   "name": "python3"
  },
  "language_info": {
   "codemirror_mode": {
    "name": "ipython",
    "version": 3
   },
   "file_extension": ".py",
   "mimetype": "text/x-python",
   "name": "python",
   "nbconvert_exporter": "python",
   "pygments_lexer": "ipython3",
   "version": "3.12.1"
  }
 },
 "nbformat": 4,
 "nbformat_minor": 2
}
