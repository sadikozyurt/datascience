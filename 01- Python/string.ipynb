{
 "cells": [
  {
   "cell_type": "code",
   "execution_count": 18,
   "metadata": {},
   "outputs": [
    {
     "name": "stdout",
     "output_type": "stream",
     "text": [
      "Sadık\n",
      "Özyurt\n"
     ]
    }
   ],
   "source": [
    "#String ifadeyi alt satıra geçirerek yazdırır\n",
    "print(\"Sadık\\nÖzyurt\")"
   ]
  },
  {
   "cell_type": "code",
   "execution_count": 15,
   "metadata": {},
   "outputs": [
    {
     "name": "stdout",
     "output_type": "stream",
     "text": [
      "merhaba dünya\n"
     ]
    }
   ],
   "source": [
    "#Değişken ifadeleri ekleyerek yazdırır\n",
    "phrase1=\"merhaba\"\n",
    "phrase2=\"dünya\"     \n",
    "print(phrase1+\" \"+phrase2)"
   ]
  },
  {
   "cell_type": "code",
   "execution_count": 17,
   "metadata": {},
   "outputs": [
    {
     "name": "stdout",
     "output_type": "stream",
     "text": [
      "sadik özyurt\n"
     ]
    }
   ],
   "source": [
    "#String ifadeyi küçük harfe çevirir\n",
    "phrase=\"SADIK ÖZYURT\"\n",
    "print(phrase.lower())  "
   ]
  },
  {
   "cell_type": "code",
   "execution_count": 20,
   "metadata": {},
   "outputs": [
    {
     "name": "stdout",
     "output_type": "stream",
     "text": [
      "SADIK ÖZYURT\n"
     ]
    }
   ],
   "source": [
    "#String ifadeyi büyük harfe çevirir\n",
    "phrase=\"sadık özyurt\"\n",
    "print(phrase.upper())  "
   ]
  },
  {
   "cell_type": "code",
   "execution_count": 21,
   "metadata": {},
   "outputs": [
    {
     "name": "stdout",
     "output_type": "stream",
     "text": [
      "False\n"
     ]
    }
   ],
   "source": [
    "#String ifadenin büyük harflerden mi oluştuğunu sorgular\n",
    "phrase=\"sadık özyurt\"\n",
    "print(phrase.isupper())  #bu örnekte string ifade hepsi küçük harf. sonuç=false"
   ]
  },
  {
   "cell_type": "code",
   "execution_count": 22,
   "metadata": {},
   "outputs": [
    {
     "name": "stdout",
     "output_type": "stream",
     "text": [
      "False\n"
     ]
    }
   ],
   "source": [
    "#String ifadenin büyük harflerden mi oluştuğunu sorgular\n",
    "phrase=\"SADIK ÖZYURt\"\n",
    "print(phrase.isupper())  #bu örnekte string ifade hepsi büyük harf ama son harf küçük harf. sonuç=false"
   ]
  },
  {
   "cell_type": "code",
   "execution_count": 23,
   "metadata": {},
   "outputs": [
    {
     "name": "stdout",
     "output_type": "stream",
     "text": [
      "True\n"
     ]
    }
   ],
   "source": [
    "#String ifadenin büyük harflerden mi oluştuğunu sorgular\n",
    "phrase=\"SADIK ÖZYURT\"\n",
    "print(phrase.isupper())  #bu örnekte string ifade hepsi büyük harf. sonuç=True"
   ]
  },
  {
   "cell_type": "code",
   "execution_count": 25,
   "metadata": {},
   "outputs": [
    {
     "name": "stdout",
     "output_type": "stream",
     "text": [
      "True\n"
     ]
    }
   ],
   "source": [
    "#String ifadeyi büyük harfe çevirir ve ifadenin büyük harflerden mi oluştuğunu sorgular\n",
    "phrase=\"SaDık ÖzYuRt\"\n",
    "print(phrase.upper().isupper())  #bu örnekte string ifade büyük küçük harf karışık ama, ilk önce hepsi büyük harfe çevrilir sonra büyük harfli olma surumu sorgulanır. sonuç=True"
   ]
  },
  {
   "cell_type": "code",
   "execution_count": 26,
   "metadata": {},
   "outputs": [
    {
     "name": "stdout",
     "output_type": "stream",
     "text": [
      "12\n"
     ]
    }
   ],
   "source": [
    "#String ifadenin uzunluğunu döndürür\n",
    "phrase=\"sadık özyurt\"\n",
    "print(len(phrase))\n",
    "      "
   ]
  },
  {
   "cell_type": "code",
   "execution_count": 27,
   "metadata": {},
   "outputs": [
    {
     "name": "stdout",
     "output_type": "stream",
     "text": [
      "17\n"
     ]
    }
   ],
   "source": [
    "#String ifadenin uzunluğunu döndürür\n",
    "phrase=\"sadık      özyurt\"\n",
    "print(len(phrase)) #boşlukları karakter olarak sayar"
   ]
  },
  {
   "cell_type": "code",
   "execution_count": 29,
   "metadata": {},
   "outputs": [
    {
     "name": "stdout",
     "output_type": "stream",
     "text": [
      "0\n"
     ]
    }
   ],
   "source": [
    "#String ifadenin karakter sırasındaki değerini döndürür\n",
    "phrase=\"0123456789\"\n",
    "print(phrase[0])"
   ]
  },
  {
   "cell_type": "code",
   "execution_count": 30,
   "metadata": {},
   "outputs": [
    {
     "name": "stdout",
     "output_type": "stream",
     "text": [
      "5\n"
     ]
    }
   ],
   "source": [
    "#String ifadenin karakter sırasındaki(index'teki) değerini döndürür\n",
    "phrase=\"0123456789\"\n",
    "print(phrase[5])"
   ]
  },
  {
   "cell_type": "code",
   "execution_count": 35,
   "metadata": {},
   "outputs": [
    {
     "name": "stdout",
     "output_type": "stream",
     "text": [
      "2\n"
     ]
    }
   ],
   "source": [
    "#String ifadenin içindeki karakter sırasını (index'ini) döndürür\n",
    "phrase=\"SADIK ÖZYURT\"\n",
    "     #0123456789\n",
    "print(phrase.index(\"D\"))"
   ]
  },
  {
   "cell_type": "code",
   "execution_count": 36,
   "metadata": {},
   "outputs": [
    {
     "name": "stdout",
     "output_type": "stream",
     "text": [
      "2\n"
     ]
    }
   ],
   "source": [
    "#String ifadenin içindeki karakter sırasını (index'ini) döndürür\n",
    "phrase=\"SADIK ÖZYURT\"\n",
    "     #0123456789\n",
    "print(phrase.index(\"DIK\"))"
   ]
  },
  {
   "cell_type": "code",
   "execution_count": 37,
   "metadata": {},
   "outputs": [
    {
     "name": "stdout",
     "output_type": "stream",
     "text": [
      "BURAK ÖZYURT\n"
     ]
    }
   ],
   "source": [
    "#String ifadenin içindeki belirli karakter dizisini farklı karakter dizisi ile değiştirir\n",
    "phrase=\"SADIK ÖZYURT\"\n",
    "     #0123456789\n",
    "print(phrase.replace(\"SADIK\",\"BURAK\"))"
   ]
  },
  {
   "cell_type": "code",
   "execution_count": 1,
   "metadata": {},
   "outputs": [
    {
     "name": "stdout",
     "output_type": "stream",
     "text": [
      "M E R H A B A   D Ü N Y A L I\n"
     ]
    }
   ],
   "source": [
    "print(*\"MERHABA DÜNYALI\") # * işareti metni aralıklı yapar"
   ]
  },
  {
   "cell_type": "code",
   "execution_count": 2,
   "metadata": {},
   "outputs": [
    {
     "name": "stdout",
     "output_type": "stream",
     "text": [
      "sadık-özyurt\n",
      "sadık*özyurt\n",
      "sadık özyurt\n",
      "sadık####özyurt\n",
      "sadık özyurt......."
     ]
    }
   ],
   "source": [
    "#sep stringlerin nasıl ayrılacağını gösterir\n",
    "print(\"sadık\",\"özyurt\",sep=\"-\")\n",
    "print(\"sadık\",\"özyurt\",sep=\"*\")\n",
    "print(\"sadık\",\"özyurt\",sep=\" \")\n",
    "print(\"sadık\",\"özyurt\",sep=\"####\")\n",
    "print(\"sadık\",\"özyurt\",end=\".......\") #end string sonunun nasıl olacağını belirtir."
   ]
  },
  {
   "cell_type": "code",
   "execution_count": 3,
   "metadata": {},
   "outputs": [
    {
     "name": "stdout",
     "output_type": "stream",
     "text": [
      "sadık\n"
     ]
    }
   ],
   "source": [
    "# düz ve ters index değerleri\n",
    "print (\"sadık\")\n",
    "# s  a  d  ı  k\n",
    "# 0  1  2  3  4\n",
    "#-5 -4 -3 -2 -1"
   ]
  },
  {
   "cell_type": "code",
   "execution_count": 6,
   "metadata": {},
   "outputs": [
    {
     "name": "stdout",
     "output_type": "stream",
     "text": [
      "aa\n"
     ]
    }
   ],
   "source": [
    "# düz ve ters index değerleri\n",
    "ifade=\"sadık\"\n",
    "# s  a  d  ı  k\n",
    "# 0  1  2  3  4\n",
    "#-5 -4 -3 -2 -1\n",
    "print(ifade[1]+ifade[-4]) #1 index'i de -4 index'i de \"a\" harfine karşılık olduğu için sonuç\"aa\" döner"
   ]
  },
  {
   "cell_type": "code",
   "execution_count": 7,
   "metadata": {},
   "outputs": [
    {
     "data": {
      "text/plain": [
       "'sa'"
      ]
     },
     "execution_count": 7,
     "metadata": {},
     "output_type": "execute_result"
    }
   ],
   "source": [
    "ifade=\"sadık\"\n",
    "# s  a  d  ı  k\n",
    "# 0  1  2  3  4\n",
    "#-5 -4 -3 -2 -1\n",
    "ifade[:2]"
   ]
  },
  {
   "cell_type": "code",
   "execution_count": 8,
   "metadata": {},
   "outputs": [
    {
     "data": {
      "text/plain": [
       "'dık'"
      ]
     },
     "execution_count": 8,
     "metadata": {},
     "output_type": "execute_result"
    }
   ],
   "source": [
    "ifade=\"sadık\"\n",
    "# s  a  d  ı  k\n",
    "# 0  1  2  3  4\n",
    "#-5 -4 -3 -2 -1\n",
    "ifade[2:]"
   ]
  },
  {
   "cell_type": "code",
   "execution_count": 9,
   "metadata": {},
   "outputs": [
    {
     "name": "stdout",
     "output_type": "stream",
     "text": [
      "dıksa\n"
     ]
    }
   ],
   "source": [
    "ifade=\"sadık\"\n",
    "# s  a  d  ı  k\n",
    "# 0  1  2  3  4\n",
    "#-5 -4 -3 -2 -1\n",
    "print (ifade[2:]+ifade[:2])"
   ]
  },
  {
   "cell_type": "code",
   "execution_count": 16,
   "metadata": {},
   "outputs": [
    {
     "name": "stdout",
     "output_type": "stream",
     "text": [
      "ad\n",
      "ad\n"
     ]
    }
   ],
   "source": [
    "ifade=\"sadık\"\n",
    "# s  a  d  ı  k\n",
    "# 0  1  2  3  4\n",
    "#-5 -4 -3 -2 -1\n",
    "print (ifade[1:-2]) #alttaki ile aynı sonucu verir\n",
    "print (ifade[1:3])"
   ]
  },
  {
   "cell_type": "code",
   "execution_count": 18,
   "metadata": {},
   "outputs": [
    {
     "name": "stdout",
     "output_type": "stream",
     "text": [
      "öyrtnekssl\n"
     ]
    }
   ],
   "source": [
    "ifade=\"sadıközyurttanherkeseselamlar\"\n",
    "# s  a  d  ı  k\n",
    "# 0  1  2  3  4\n",
    "#-5 -4 -3 -2 -1\n",
    "print (ifade[5:25:2]) #5 ile 25. karakterler arası 2 atlayarak sonucu verir"
   ]
  },
  {
   "cell_type": "code",
   "execution_count": 19,
   "metadata": {},
   "outputs": [
    {
     "name": "stdout",
     "output_type": "stream",
     "text": [
      "sdkzutahreeealr\n"
     ]
    }
   ],
   "source": [
    "ifade=\"sadıközyurttanherkeseselamlar\"\n",
    "# s  a  d  ı  k\n",
    "# 0  1  2  3  4\n",
    "#-5 -4 -3 -2 -1\n",
    "print (ifade[::2]) #baştan sona 2 atlayarak sonucu verir"
   ]
  },
  {
   "cell_type": "code",
   "execution_count": 22,
   "metadata": {},
   "outputs": [
    {
     "name": "stdout",
     "output_type": "stream",
     "text": [
      "rlaeeerhatuzkds\n"
     ]
    }
   ],
   "source": [
    "ifade=\"sadıközyurttanherkeseselamlar\"\n",
    "# s  a  d  ı  k\n",
    "# 0  1  2  3  4\n",
    "#-5 -4 -3 -2 -1\n",
    "print (ifade[::-2]) #sondan başa 1 atlayarak sonucu verir"
   ]
  },
  {
   "cell_type": "code",
   "execution_count": 23,
   "metadata": {},
   "outputs": [
    {
     "name": "stdout",
     "output_type": "stream",
     "text": [
      "İsminizin tersten yazılışı : kıdas\n"
     ]
    }
   ],
   "source": [
    "isim = input (\"İsminiz :\")\n",
    "\n",
    "print(\"İsminizin tersten yazılışı :\", isim[::-1])"
   ]
  },
  {
   "cell_type": "code",
   "execution_count": 24,
   "metadata": {},
   "outputs": [
    {
     "data": {
      "text/plain": [
       "'567'"
      ]
     },
     "execution_count": 24,
     "metadata": {},
     "output_type": "execute_result"
    }
   ],
   "source": [
    "\"{}{}{}\".format(5,6,7)"
   ]
  },
  {
   "cell_type": "code",
   "execution_count": 28,
   "metadata": {},
   "outputs": [
    {
     "data": {
      "text/plain": [
       "\"5+4'ün toplamı 54'dir.\""
      ]
     },
     "execution_count": 28,
     "metadata": {},
     "output_type": "execute_result"
    }
   ],
   "source": [
    "a=input(\"1. Sayı: \")\n",
    "b=input(\"2. Sayı: \")\n",
    "\"{}+{}'ün toplamı {}'dir.\".format(a,b,a+b)\n"
   ]
  },
  {
   "cell_type": "code",
   "execution_count": 29,
   "metadata": {},
   "outputs": [
    {
     "data": {
      "text/plain": [
       "'Ali ve Veli çok iyi arkadaştır.'"
      ]
     },
     "execution_count": 29,
     "metadata": {},
     "output_type": "execute_result"
    }
   ],
   "source": [
    "a = \"{} ve {} çok iyi arkadaştır.\"\n",
    "\n",
    "a.format(\"Ali\", \"Veli\")"
   ]
  },
  {
   "cell_type": "code",
   "execution_count": 30,
   "metadata": {},
   "outputs": [
    {
     "data": {
      "text/plain": [
       "'Murat Ali Veli'"
      ]
     },
     "execution_count": 30,
     "metadata": {},
     "output_type": "execute_result"
    }
   ],
   "source": [
    "\"{2} {0} {1}\".format(\"Ali\",\"Veli\",\"Murat\")"
   ]
  }
 ],
 "metadata": {
  "kernelspec": {
   "display_name": "base",
   "language": "python",
   "name": "python3"
  },
  "language_info": {
   "codemirror_mode": {
    "name": "ipython",
    "version": 3
   },
   "file_extension": ".py",
   "mimetype": "text/x-python",
   "name": "python",
   "nbconvert_exporter": "python",
   "pygments_lexer": "ipython3",
   "version": "3.11.5"
  }
 },
 "nbformat": 4,
 "nbformat_minor": 2
}
