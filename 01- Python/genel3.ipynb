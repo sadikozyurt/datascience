{
 "cells": [
  {
   "cell_type": "markdown",
   "metadata": {},
   "source": [
    "***Çarpım Tablosu:***\n",
    "- Kullanıcıdan bir sayı alır ve bu sayının çarpım tablosunu 1'den 10'a kadar ekrana yazdırır."
   ]
  },
  {
   "cell_type": "code",
   "execution_count": 11,
   "metadata": {},
   "outputs": [
    {
     "name": "stdout",
     "output_type": "stream",
     "text": [
      "3 x 1 = 3\n",
      "3 x 2 = 6\n",
      "3 x 3 = 9\n",
      "3 x 4 = 12\n",
      "3 x 5 = 15\n",
      "3 x 6 = 18\n",
      "3 x 7 = 21\n",
      "3 x 8 = 24\n",
      "3 x 9 = 27\n"
     ]
    }
   ],
   "source": [
    "sayı = int(input(\"Sayı: \"))\n",
    "\n",
    "for j in range(1,10):\n",
    "    çarpım = sayı * j\n",
    "    print(f\"{sayı} x {j} = {çarpım}\")"
   ]
  },
  {
   "cell_type": "markdown",
   "metadata": {},
   "source": [
    "***Sayı Tahmin Oyunu:***\n",
    "- Bilgisayar rastgele bir sayı seçsin (örneğin 1 ile 100 arasında).\n",
    "- Kullanıcıdan sayı tahminleri alın ve bilgisayarın seçtiği sayı ile karşılaştırın.\n",
    "- Kullanıcıya sayıyı doğru tahmin edip etmediğini söyleyin.\n",
    "- Tahminler arasında döngü kullanın."
   ]
  },
  {
   "cell_type": "code",
   "execution_count": 4,
   "metadata": {},
   "outputs": [
    {
     "name": "stdout",
     "output_type": "stream",
     "text": [
      "Yukarı\n",
      "Aşağı\n",
      "Yukarı\n",
      "Yukarı\n",
      "Aşağı\n"
     ]
    }
   ],
   "source": [
    "import random\n",
    "\n",
    "sayı = random.randint(1, 100)\n",
    "sayaç =0\n",
    "\n",
    "while sayaç < 5:\n",
    "\n",
    "    tahmin = int(input(\"Bir Sayı Tut\"))\n",
    "    sayaç += 1\n",
    "\n",
    "    if tahmin == sayı:\n",
    "        print(\"Doğru Tahmin\")\n",
    "        break\n",
    "    elif tahmin <= sayı:\n",
    "        print(\"Yukarı\")\n",
    "    else:\n",
    "        print(\"Aşağı\")"
   ]
  },
  {
   "cell_type": "code",
   "execution_count": 13,
   "metadata": {},
   "outputs": [
    {
     "name": "stdout",
     "output_type": "stream",
     "text": [
      "3 asal bir sayıdır.\n"
     ]
    }
   ],
   "source": [
    "sayı = int(input(\"Bir Sayı Giriniz: \"))\n",
    "\n",
    "if sayı <= 1:\n",
    "    print (sayı,\"asal bir sayı değildir.\")\n",
    "\n",
    "else:\n",
    "    for i in range(2,sayı):\n",
    "        if sayı % i == 0:\n",
    "            print(sayı, \"asal bir sayı değildir.\")\n",
    "            break\n",
    "        else:\n",
    "            print(sayı, \"asal bir sayıdır.\")"
   ]
  },
  {
   "cell_type": "code",
   "execution_count": 18,
   "metadata": {},
   "outputs": [
    {
     "name": "stdout",
     "output_type": "stream",
     "text": [
      "Toplam Tutar: 10000.0 TL | İndirim: 1000.0 TL | İndirimli Fiyat 9000.0 TL\n"
     ]
    }
   ],
   "source": [
    "ürün_adı = input(\"Ürün Adı (Çıkış>q): \")\n",
    "miktar = int(input(\"Miktar: \"))\n",
    "birim_fiyat = float(input(\"Birim Fiyatı: \"))\n",
    "\n",
    "tutar = miktar * birim_fiyat\n",
    "\n",
    "if tutar >= 10000:\n",
    "    indirim = tutar * 0.1\n",
    "    print(f\"Toplam Tutar: {tutar} TL | İndirim: {indirim} TL | İndirimli Fiyat {tutar-indirim} TL\")\n",
    "else:\n",
    "    print(f\"Toplam Tutar: {tutar} TL | İndirim Uygulanmadı\")\n",
    "\n"
   ]
  },
  {
   "cell_type": "markdown",
   "metadata": {},
   "source": [
    "***Giriş Kontrol Sistemi:***\n",
    "- Kullanıcının adını ve yaşını kontrol ederek belirli bir yaşın altındaysa belirli bir bölüme giriş izni verir."
   ]
  },
  {
   "cell_type": "code",
   "execution_count": 20,
   "metadata": {},
   "outputs": [
    {
     "name": "stdout",
     "output_type": "stream",
     "text": [
      "Merhaba sss, bu bölüme giriş izniniz yoktur.\n"
     ]
    }
   ],
   "source": [
    "ad = input(\"Adınız: \")\n",
    "d_yılı = int(input(\"Doğum Yılınız: \"))\n",
    "\n",
    "yaş = 2024 - d_yılı\n",
    "\n",
    "if yaş > 18:\n",
    "    print(f\"Merhaba {ad}, hoşgeldiniz.\")\n",
    "else:\n",
    "    print(f\"Merhaba {ad}, bu bölüme giriş izniniz yoktur.\")"
   ]
  },
  {
   "cell_type": "markdown",
   "metadata": {},
   "source": [
    "***Döviz Dönüştürücü:***\n",
    "* Kullanıcıdan döviz türü ve miktarını alarak, belirli bir döviz kuru üzerinden TL'ye çevirir."
   ]
  },
  {
   "cell_type": "code",
   "execution_count": 5,
   "metadata": {},
   "outputs": [
    {
     "name": "stdout",
     "output_type": "stream",
     "text": [
      "100.0 USD = 3101.0 TL\n"
     ]
    }
   ],
   "source": [
    "doviz_turu = input(\"Döviz türünü giriniz (USD veya EUR):\").upper()\n",
    "\n",
    "miktar = float(input(f\"{doviz_turu} miktarını giriniz: \"))\n",
    "\n",
    "if doviz_turu == \"USD\":\n",
    "    kur = 31.01\n",
    "elif doviz_turu == \"EUR\":\n",
    "    kur = 33.40\n",
    "    \n",
    "else:\n",
    "    print(\"Geçersiz döviz türü!\")\n",
    "    \n",
    "tl_miktar = miktar * kur\n",
    "\n",
    "print(f\"{miktar} {doviz_turu} = {tl_miktar} TL\")"
   ]
  }
 ],
 "metadata": {
  "kernelspec": {
   "display_name": "Python 3",
   "language": "python",
   "name": "python3"
  },
  "language_info": {
   "codemirror_mode": {
    "name": "ipython",
    "version": 3
   },
   "file_extension": ".py",
   "mimetype": "text/x-python",
   "name": "python",
   "nbconvert_exporter": "python",
   "pygments_lexer": "ipython3",
   "version": "3.12.1"
  }
 },
 "nbformat": 4,
 "nbformat_minor": 2
}
