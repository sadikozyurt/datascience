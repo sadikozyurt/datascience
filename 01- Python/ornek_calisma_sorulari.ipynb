{
 "cells": [
  {
   "cell_type": "markdown",
   "metadata": {},
   "source": [
    "Kullanıcıdan 5 adet tam sayı isteyin ve bu sayıları bir listede saklayın.\n"
   ]
  },
  {
   "cell_type": "code",
   "execution_count": 28,
   "metadata": {},
   "outputs": [
    {
     "name": "stdout",
     "output_type": "stream",
     "text": [
      "[2, 4, 7, 9, 79]\n"
     ]
    }
   ],
   "source": [
    "list = []\n",
    "\n",
    "x = 0\n",
    "\n",
    "while x < 5:\n",
    "    sayı = int(input(\"Sayı:\"))\n",
    "    list.append(sayı)\n",
    "    x += 1\n",
    "print (list)\n"
   ]
  },
  {
   "cell_type": "markdown",
   "metadata": {},
   "source": [
    "Bir listedeki en büyük ve en küçük değerleri bulup ekrana yazdırın.\n"
   ]
  },
  {
   "cell_type": "code",
   "execution_count": 26,
   "metadata": {},
   "outputs": [
    {
     "name": "stdout",
     "output_type": "stream",
     "text": [
      "En Büyük: 9 En Küçük: 1\n"
     ]
    }
   ],
   "source": [
    "liste = [1,2,3,4,5,6,7,8,9]\n",
    "print(f\"En Büyük: {max(liste)} En Küçük: {min(liste)}\")"
   ]
  },
  {
   "cell_type": "markdown",
   "metadata": {},
   "source": [
    "İki listenin birleşimini (concatenation) yaparak yeni bir liste oluşturun.\n"
   ]
  },
  {
   "cell_type": "code",
   "execution_count": 24,
   "metadata": {},
   "outputs": [
    {
     "name": "stdout",
     "output_type": "stream",
     "text": [
      "[1, 2, 3, 4, 5, 6, 7, 8]\n"
     ]
    }
   ],
   "source": [
    "liste_1 = [1,2,3,4]\n",
    "liste_2 = [5,6,7,8]\n",
    "\n",
    "yeni_liste = liste_1 + liste_2\n",
    "print(yeni_liste)"
   ]
  },
  {
   "cell_type": "markdown",
   "metadata": {},
   "source": [
    "Sabit bir liste oluşturarak içindeki elemanları ekrana yazdırın."
   ]
  },
  {
   "cell_type": "code",
   "execution_count": 23,
   "metadata": {},
   "outputs": [
    {
     "name": "stdout",
     "output_type": "stream",
     "text": [
      "[1, 2, 3, 4]\n"
     ]
    }
   ],
   "source": [
    "liste = [1,2,3,4]\n",
    "print(liste)"
   ]
  },
  {
   "cell_type": "markdown",
   "metadata": {},
   "source": [
    "İki tuple'ın elemanlarını toplayarak yeni bir tuple oluşturun.\n"
   ]
  },
  {
   "cell_type": "code",
   "execution_count": 22,
   "metadata": {},
   "outputs": [
    {
     "name": "stdout",
     "output_type": "stream",
     "text": [
      "Yeni Tuple: (1, 2, 3, 4, 5, 6)\n"
     ]
    }
   ],
   "source": [
    "# toplayarak tuple'a atamayız ama ekleyerek olabilir\n",
    "\n",
    "tuple1 = (1, 2, 3)\n",
    "tuple2 = (4, 5, 6)\n",
    "\n",
    "# İki tuple'ı toplayarak yeni bir tuple oluşturma\n",
    "yeni_tuple = tuple1 + tuple2\n",
    "\n",
    "print(\"Yeni Tuple:\", yeni_tuple)\n"
   ]
  },
  {
   "cell_type": "markdown",
   "metadata": {},
   "source": [
    "Bir tuple'ın belirli bir elemanını değiştirin.\n"
   ]
  },
  {
   "cell_type": "code",
   "execution_count": null,
   "metadata": {},
   "outputs": [],
   "source": [
    "#değiştiremeyiz"
   ]
  },
  {
   "cell_type": "markdown",
   "metadata": {},
   "source": [
    "Kullanıcıdan alınan bir cümleyi kelimelerine ayırarak bir listede saklayın"
   ]
  },
  {
   "cell_type": "code",
   "execution_count": 20,
   "metadata": {},
   "outputs": [
    {
     "name": "stdout",
     "output_type": "stream",
     "text": [
      "['merhaba', 'dünya', 'ben', 'uzaydan', 'yazıyorum', 'size']\n"
     ]
    }
   ],
   "source": [
    "cümle = input (\"Cümle:\")\n",
    "print(cümle.split(\" \"))\n"
   ]
  },
  {
   "cell_type": "markdown",
   "metadata": {},
   "source": [
    "Bir listedeki elemanları ters çevirerek yeni bir liste oluşturun"
   ]
  },
  {
   "cell_type": "code",
   "execution_count": 16,
   "metadata": {},
   "outputs": [
    {
     "data": {
      "text/plain": [
       "[45, 3, 2, 1]"
      ]
     },
     "execution_count": 16,
     "metadata": {},
     "output_type": "execute_result"
    }
   ],
   "source": [
    "liste= [1,2,3,45]\n",
    "\n",
    "liste.reverse()\n",
    "liste\n"
   ]
  },
  {
   "cell_type": "markdown",
   "metadata": {},
   "source": [
    "Kullanıcıdan alınan bir sayının faktöriyelini hesaplayın.\n",
    "\n"
   ]
  },
  {
   "cell_type": "code",
   "execution_count": 17,
   "metadata": {},
   "outputs": [
    {
     "name": "stdout",
     "output_type": "stream",
     "text": [
      "4! = 24\n"
     ]
    }
   ],
   "source": [
    "sayi = int(input(\"Faktöriyelini Hesaplamak İstediğiniz Sayı: \"))\n",
    "\n",
    "if sayi < 0:\n",
    "    print(\"Negatif sayıların faktöriyeli hesaplanamaz.\")\n",
    "else:\n",
    "    faktoriyel = 1\n",
    "    \n",
    "    for i in range(1, sayi + 1):\n",
    "            faktoriyel *= i\n",
    "    print(f\"{sayi}! = {faktoriyel}\")"
   ]
  },
  {
   "cell_type": "markdown",
   "metadata": {},
   "source": [
    "İki listenin birleşiminden tekrar eden elemanları kaldırarak yeni bir liste oluşturun.\n",
    "\n"
   ]
  },
  {
   "cell_type": "code",
   "execution_count": 6,
   "metadata": {},
   "outputs": [
    {
     "data": {
      "text/plain": [
       "[1, 2, 3, 4, 5, 6, 8, 12, 23, 32, 34, 45, 67, 89, 90]"
      ]
     },
     "execution_count": 6,
     "metadata": {},
     "output_type": "execute_result"
    }
   ],
   "source": [
    "liste_1 = [1,2,3,4,8,90,23,45,67,89,32]\n",
    "liste_2 = [1,2,5,6,8,90,12,34]\n",
    "liste_yeni = liste_1 + liste_2\n",
    "liste_yeni.sort()\n",
    "x = 0\n",
    "\n",
    "while x < len(liste_yeni)-1:\n",
    "    if liste_yeni[x] == liste_yeni [x+1]:\n",
    "        liste_yeni.remove(liste_yeni[x])\n",
    "    x += 1\n",
    "liste_yeni"
   ]
  },
  {
   "cell_type": "markdown",
   "metadata": {},
   "source": [
    "Bir listedeki elemanları tek olanları karesini alarak yeni bir liste oluşturun.\n",
    "\n"
   ]
  },
  {
   "cell_type": "code",
   "execution_count": 28,
   "metadata": {},
   "outputs": [
    {
     "data": {
      "text/plain": [
       "[1, 9, 49, 81]"
      ]
     },
     "execution_count": 28,
     "metadata": {},
     "output_type": "execute_result"
    }
   ],
   "source": [
    "liste = [1,3,4,6,7,8,2,9]\n",
    "\n",
    "yeni_liste = []\n",
    "\n",
    "a = 0\n",
    "\n",
    "while a < len(liste):\n",
    "    if liste[a]%2 == 1:\n",
    "        yeni_liste.append(liste[a]**2)\n",
    "    a += 1\n",
    "\n",
    "yeni_liste"
   ]
  },
  {
   "cell_type": "markdown",
   "metadata": {},
   "source": [
    "İki set'in birleşiminden tekrar eden elemanları kaldırarak yeni bir set oluşturun.\n",
    "\n"
   ]
  },
  {
   "cell_type": "code",
   "execution_count": 27,
   "metadata": {},
   "outputs": [
    {
     "data": {
      "text/plain": [
       "{'N', 'S', 'a', 'd', 'k', 'm', 'ı'}"
      ]
     },
     "execution_count": 27,
     "metadata": {},
     "output_type": "execute_result"
    }
   ],
   "source": [
    "a = set(\"Sadık\")\n",
    "b = set (\"Namık\")\n",
    "c = a|b\n",
    "c"
   ]
  },
  {
   "cell_type": "markdown",
   "metadata": {},
   "source": [
    "Kullanıcıdan alınan 5 adet sayıyı bir küme olarak saklayın. Ardından bu kümenin elemanlarını büyükten küçüğe sıralayarak ekrana yazdırın."
   ]
  },
  {
   "cell_type": "code",
   "execution_count": 25,
   "metadata": {},
   "outputs": [
    {
     "data": {
      "text/plain": [
       "[{12, 45, 67, 89, 90}]"
      ]
     },
     "execution_count": 25,
     "metadata": {},
     "output_type": "execute_result"
    }
   ],
   "source": [
    "sayılar =set()\n",
    "\n",
    "a = 0\n",
    "\n",
    "while a<5:\n",
    "    sayı = int(input(\"Sayı Giriniz:\"))\n",
    "    sayılar.add(sayı)\n",
    "    a += 1\n",
    "\n",
    "list_sayılar\n"
   ]
  },
  {
   "cell_type": "markdown",
   "metadata": {},
   "source": [
    "Kullanıcıdan alınan bir cümlenin içinde geçen harfleri bir küme olarak saklayın. Daha sonra bu kümenin elemanlarını alfabetik sıraya göre ekrana yazdırın."
   ]
  },
  {
   "cell_type": "code",
   "execution_count": 6,
   "metadata": {},
   "outputs": [
    {
     "data": {
      "text/plain": [
       "{'a', 'b', 'd', 'e', 'h', 'm', 'n', 'r', 'y', 'ü'}"
      ]
     },
     "execution_count": 6,
     "metadata": {},
     "output_type": "execute_result"
    }
   ],
   "source": [
    "cümle = input (\"Cümle: \")\n",
    "a = set(cümle)\n",
    "boşluk = set(\" \")\n",
    "a-boşluk"
   ]
  }
 ],
 "metadata": {
  "kernelspec": {
   "display_name": "Python 3",
   "language": "python",
   "name": "python3"
  },
  "language_info": {
   "codemirror_mode": {
    "name": "ipython",
    "version": 3
   },
   "file_extension": ".py",
   "mimetype": "text/x-python",
   "name": "python",
   "nbconvert_exporter": "python",
   "pygments_lexer": "ipython3",
   "version": "3.12.1"
  }
 },
 "nbformat": 4,
 "nbformat_minor": 2
}
