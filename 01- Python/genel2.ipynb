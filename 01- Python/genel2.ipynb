{
 "cells": [
  {
   "cell_type": "markdown",
   "metadata": {},
   "source": [
    "Bir listedeki elemanların toplamını, çarpımını ve ortalamasını bulun."
   ]
  },
  {
   "cell_type": "code",
   "execution_count": 20,
   "metadata": {},
   "outputs": [
    {
     "name": "stdout",
     "output_type": "stream",
     "text": [
      "Listedeki Elemanların Toplamı: 15\n",
      "Listedeki Elemanların Çarpımı: 120\n",
      "Listedeki Elemanların Ortalaması: 3.0\n"
     ]
    }
   ],
   "source": [
    "liste = [1, 2, 3, 4, 5]\n",
    "\n",
    "# Toplamı bul\n",
    "toplam = sum(liste)\n",
    "\n",
    "# Çarpımı bul\n",
    "carpim = 1\n",
    "for eleman in liste:\n",
    "    carpim *= eleman\n",
    "\n",
    "# Ortalamayı bul\n",
    "ortalama = toplam / len(liste)\n",
    "\n",
    "print(\"Listedeki Elemanların Toplamı:\", toplam)\n",
    "print(\"Listedeki Elemanların Çarpımı:\", carpim)\n",
    "print(\"Listedeki Elemanların Ortalaması:\", ortalama)\n"
   ]
  },
  {
   "cell_type": "markdown",
   "metadata": {},
   "source": [
    "Bir listedeki çift sayıların ve tek sayıların toplamlarını ayrı ayrı bulun."
   ]
  },
  {
   "cell_type": "code",
   "execution_count": 23,
   "metadata": {},
   "outputs": [
    {
     "name": "stdout",
     "output_type": "stream",
     "text": [
      "Listedeki Çift Sayıların Toplamı: 30\n",
      "Listedeki Tek Sayıların Toplamı: 25\n"
     ]
    }
   ],
   "source": [
    "liste = [1, 2, 3, 4, 5, 6, 7, 8, 9, 10]\n",
    "\n",
    "# Çift ve tek sayıların toplamını tutacak değişkenleri başlat\n",
    "cift_toplam = 0\n",
    "tek_toplam = 0\n",
    "\n",
    "# Liste üzerinde döngü yaparak çift ve tek sayıları ayırıp toplamı hesapla\n",
    "for eleman in liste:\n",
    "    if eleman % 2 == 0:\n",
    "        cift_toplam += eleman\n",
    "    else:\n",
    "        tek_toplam += eleman\n",
    "\n",
    "print(\"Listedeki Çift Sayıların Toplamı:\", cift_toplam)\n",
    "print(\"Listedeki Tek Sayıların Toplamı:\", tek_toplam)\n"
   ]
  },
  {
   "cell_type": "markdown",
   "metadata": {},
   "source": [
    "Bir listedeki en sık tekrar eden elemanı bulun."
   ]
  },
  {
   "cell_type": "code",
   "execution_count": 33,
   "metadata": {},
   "outputs": [
    {
     "name": "stdout",
     "output_type": "stream",
     "text": [
      "1 1\n",
      "2 1\n",
      "3 4\n",
      "4 1\n",
      "3 4\n",
      "6 1\n",
      "3 4\n",
      "8 1\n",
      "3 4\n",
      "10 1\n"
     ]
    }
   ],
   "source": [
    "liste = [1, 2, 3, 4, 3, 6, 3, 8, 3, 10]\n",
    "\n",
    "for eleman in liste:\n",
    "    liste.count (eleman)\n",
    "    adetler = liste.count(eleman)\n",
    "    print(f\"{eleman} {adetler}\")\n",
    "    \n"
   ]
  },
  {
   "cell_type": "markdown",
   "metadata": {},
   "source": [
    "Bir listedeki elemanları, elemanın kendisiyle değil, index'leriyle çarpıp yeni bir liste oluşturun."
   ]
  },
  {
   "cell_type": "code",
   "execution_count": 39,
   "metadata": {},
   "outputs": [
    {
     "name": "stdout",
     "output_type": "stream",
     "text": [
      "Index'leriyle Çarpılmış Liste: [0, 2, 6, 12, 20]\n"
     ]
    }
   ],
   "source": [
    "liste = [1, 2, 3, 4, 5]\n",
    "\n",
    "# Yeni liste için boş bir liste oluştur\n",
    "yeni_liste = []\n",
    "\n",
    "# Her elemanı index'leriyle çarparak yeni listeye ekle\n",
    "for i in range(len(liste)):\n",
    "    carpim = liste[i] * i\n",
    "    yeni_liste.append(carpim)\n",
    "\n",
    "print(\"Index'leriyle Çarpılmış Liste:\", yeni_liste)\n"
   ]
  },
  {
   "cell_type": "markdown",
   "metadata": {},
   "source": [
    "İki tuple'ın elemanlarından sadece birinci tuple'da yer alanları yeni bir tuple'da saklayın."
   ]
  },
  {
   "cell_type": "code",
   "execution_count": 2,
   "metadata": {},
   "outputs": [
    {
     "data": {
      "text/plain": [
       "(3, 4, 5)"
      ]
     },
     "execution_count": 2,
     "metadata": {},
     "output_type": "execute_result"
    }
   ],
   "source": [
    "tuple_1 = (1,2,3,4,5)\n",
    "tuple_2 = (1,2,6,7,8)\n",
    "\n",
    "küme_1 = set(tuple_1)\n",
    "küme_2 = set(tuple_2)\n",
    "\n",
    "ab_fark = küme_1.difference(küme_2)\n",
    "\n",
    "yeni_tuple = tuple(ab_fark)\n",
    "\n",
    "yeni_tuple"
   ]
  },
  {
   "cell_type": "markdown",
   "metadata": {},
   "source": [
    "Bir tuple'daki elemanların toplamının karesini bulun."
   ]
  },
  {
   "cell_type": "code",
   "execution_count": 26,
   "metadata": {},
   "outputs": [
    {
     "data": {
      "text/plain": [
       "100"
      ]
     },
     "execution_count": 26,
     "metadata": {},
     "output_type": "execute_result"
    }
   ],
   "source": [
    "tuple = (1,2,3,4)\n",
    "sonuç = 0\n",
    "toplam = 0\n",
    "\n",
    "for eleman in tuple:\n",
    "    toplam = toplam + eleman\n",
    "\n",
    "sonuç = toplam**2\n",
    "sonuç"
   ]
  },
  {
   "cell_type": "markdown",
   "metadata": {},
   "source": [
    "Bir tuple'ın elemanlarının ardışık farklarını içeren bir liste oluşturun."
   ]
  },
  {
   "cell_type": "code",
   "execution_count": 29,
   "metadata": {},
   "outputs": [
    {
     "data": {
      "text/plain": [
       "[4, 15, 12, 18]"
      ]
     },
     "execution_count": 29,
     "metadata": {},
     "output_type": "execute_result"
    }
   ],
   "source": [
    "tuple = (1,5,20,32,50)\n",
    "\n",
    "liste = []\n",
    "\n",
    "for i in range(len(tuple) - 1):\n",
    "    fark = tuple [i+1] - tuple [i]\n",
    "    liste.append(fark)\n",
    "    i += 1\n",
    "\n",
    "liste\n",
    "\n"
   ]
  },
  {
   "cell_type": "markdown",
   "metadata": {},
   "source": [
    "Bir sözlükteki değerlerden en büyük ve en küçüğün anahtarlarını bulun."
   ]
  },
  {
   "cell_type": "code",
   "execution_count": 24,
   "metadata": {},
   "outputs": [
    {
     "name": "stdout",
     "output_type": "stream",
     "text": [
      "maksimum: 6 | minimum: 1\n"
     ]
    }
   ],
   "source": [
    "sözlük = {\"a\":1,\"b\":2,\"c\":3,\"d\":4,\"e\":5,\"f\":6}\n",
    "\n",
    "maximum = max(sözlük.values())\n",
    "minimum = min(sözlük.values())\n",
    "\n",
    "print(f\"maksimum: {maximum} | minimum: {minimum}\")"
   ]
  },
  {
   "cell_type": "code",
   "execution_count": null,
   "metadata": {},
   "outputs": [],
   "source": []
  }
 ],
 "metadata": {
  "kernelspec": {
   "display_name": "Python 3",
   "language": "python",
   "name": "python3"
  },
  "language_info": {
   "codemirror_mode": {
    "name": "ipython",
    "version": 3
   },
   "file_extension": ".py",
   "mimetype": "text/x-python",
   "name": "python",
   "nbconvert_exporter": "python",
   "pygments_lexer": "ipython3",
   "version": "3.12.1"
  }
 },
 "nbformat": 4,
 "nbformat_minor": 2
}
