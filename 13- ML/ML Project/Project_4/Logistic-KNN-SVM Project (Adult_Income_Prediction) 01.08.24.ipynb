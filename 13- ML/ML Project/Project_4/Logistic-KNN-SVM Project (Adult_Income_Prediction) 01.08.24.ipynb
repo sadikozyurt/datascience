{
 "cells": [
  {
   "cell_type": "markdown",
   "id": "2dd3212f",
   "metadata": {},
   "source": [
    "# <p style=\"background-color:green;font-family:newtimeroman;font-size:200%;color:white;text-align:center;border-radius:20px 20px;\"><b>Adult Income Prediction Project Solution</b></p>\n",
    "![](https://www.techproeducation.com/logo/headerlogo.svg)\n",
    "\n",
    "<b>Yeniliklerden ilk siz haberdar olmak istiyorsanız lütfen bizi takip etmeyi unutmayın </b>[YouTube](https://www.youtube.com/c/techproeducation) | [Instagram](https://www.instagram.com/techproeducation) | [Facebook](https://www.facebook.com/techproeducation) | [Telegram](https://t.me/joinchat/HH2qRvA-ulh4OWbb) | [WhatsApp](https://api.whatsapp.com/send/?phone=%2B15853042959&text&type=phone_number&app_absent=0) | [LinkedIn](https://www.linkedin.com/company/techproeducation/mycompany/) |"
   ]
  },
  {
   "cell_type": "markdown",
   "id": "a589228f-f7be-4c79-94fd-e45cb2c473f4",
   "metadata": {
    "id": "a589228f-f7be-4c79-94fd-e45cb2c473f4",
    "tags": []
   },
   "source": [
    "# <font color='green'> <b>Exploratory Data Analysis</b><font color='black'>"
   ]
  },
  {
   "cell_type": "markdown",
   "id": "392a02f0-fdda-44ae-a0fc-97f3b03924a9",
   "metadata": {
    "id": "392a02f0-fdda-44ae-a0fc-97f3b03924a9"
   },
   "source": [
    "**Data Set Information:**\n",
    "\n",
    "This dataset was obtained from UCI Machine Learning Repository. The aim of this problem is to classify adults in two different groups based on their income where group 1 has an income less than USD 50k and group 2 has an income of more than or equal to USD 50k. The data available at hand comes from Census 1994.\n",
    "\n",
    "**Veri Seti Bilgisi:**\n",
    "\n",
    "Bu veri seti UCI Machine Learning Repository'den alınmıştır. Bu problemin amacı, gelirlerine göre yetişkinleri iki farklı gruba ayırmaktır. Birinci grup 50.000 USD'den daha az geliri olanları, ikinci grup ise 50.000 USD veya daha fazla geliri olanları içermektedir. Elimizdeki veriler 1994 Nüfus Sayımı'ndan gelmektedir.\n",
    "\n",
    "**Attribute Information:**\n",
    "\n",
    "**Age**: Describes the age of individuals. Continuous.\n",
    "\n",
    "**Yaş**: Bireylerin yaşını tanımlar. Sürekli (sayısal) değer.\n",
    "\n",
    "**Workclass**: Private, Self-emp-not-inc, Self-emp-inc, Federal-gov, Local-gov, State-gov, Without-pay, Never-worked.\n",
    "\n",
    "**Çalışma Sınıfı**: Özel, Kendi İşi Olmayanlar, Kendi İşi Olanlar, Federal Hükümet, Yerel Hükümet, Eyalet Hükümeti, Ücret Almadan Çalışan, Hiç Çalışmamış.\n",
    "\n",
    "**fnlwgt**: Continuous.\n",
    "\n",
    "**fnlwgt**: Sürekli değer.Bu, ABD'deki Nüfus Sayım Bürosu tarafından oluşturulan bir ağırlıklandırma faktörüdür ve her veri girişinin gerçekte temsil ettiği kişi sayısını gösterir. Örneğin, bir veri girişi için fnlwgt değeri 100 olduğunda, bu veri girişinin 100 kişiyi temsil ettiği düşünülür.\n",
    "\n",
    "Ancak, bu özellik genellikle analizlerde veya model eğitiminde doğrudan kullanılmaz çünkü bu ağırlıklar modeli eğitirken ya da test ederken bireysel veri noktaları üzerinde doğrudan bir anlama gelmez. Ancak, veri seti hakkında daha derinlemesine bir demografik analiz yapılıyorsa, bu ağırlık değerleri faydalı olabilir.\n",
    "\n",
    "**education**: Bachelors, Some-college, 11th, HS-grad, Prof-school, Assoc-acdm, Assoc-voc, 9th, 7th-8th, 12th, Masters, 1st-4th, 10th, Doctorate, 5th-6th, Preschool.\n",
    "\n",
    "**Eğitim**: Lisans, Birtakım Kolejler, 11. Sınıf, Lise Mezunu, Meslek Okulu, Akademik Dernek, Mesleki Dernek, 9. Sınıf, 7-8. Sınıf, 12. Sınıf, Yüksek Lisans, 1-4. Sınıf, 10. Sınıf, Doktora, 5-6. Sınıf, Okul Öncesi.\n",
    "\n",
    "**education-num**: Number of years spent in education. Continuous.\n",
    "\n",
    "**Eğitim Numarası**: Eğitimde geçirilen yıl sayısı. Sürekli değer.\n",
    "\n",
    "**marital-status**: Married-civ-spouse, Divorced, Never-married, Separated, Widowed, Married-spouse-absent, Married-AF-spouse.\n",
    "\n",
    "**Medeni Durum**: Medeni Evli, Boşanmış, Hiç Evlenmemiş, Ayrı, Dul, Eşinden Ayrı Evli, Askeri Evli.\n",
    "\n",
    "**occupation**: Tech-support, Craft-repair, Other-service, Sales, Exec-managerial, Prof-specialty, Handlers-cleaners, Machine-op-inspct, Adm-clerical, Farming-fishing, Transport-moving, Priv-house-serv, Protective-serv, Armed-Forces.\n",
    "\n",
    "**Meslek**: Teknik Destek, Zanaat-Tamir, Diğer Hizmetler, Satış, Yönetici, Profesyonel Uzmanlık, Temizlik Personeli, Makine Operatörü/Denetçi, İdari İşler, Tarım-Balıkçılık, Taşımacılık, Özel Ev Hizmetleri, Koruyucu Hizmetler, Silahlı Kuvvetler.\n",
    "\n",
    "**relationship**: Wife, Own-child, Husband, Not-in-family, Other-relative, Unmarried.\n",
    "\n",
    "**İlişki Durumu**: Eş, Kendi Çocuğu, Koca, Aile İçinde Değil, Diğer Akraba, Bekar.\n",
    "\n",
    "**race**: White, Asian-Pac-Islander, Amer-Indian-Eskimo, Other, Black.\n",
    "\n",
    "**Irk**: Beyaz, Asya-Pasifik Adalı, Amerikan Yerlisi-Eskimo, Diğer, Siyah.\n",
    "\n",
    "**sex**: Female, Male.\n",
    "\n",
    "**Cinsiyet**: Kadın, Erkek.\n",
    "\n",
    "**capital-gain**: Bir bireyin varlık satışlarından (örneğin, hisse senedi veya gayrimenkul satışı) elde ettiği kazancı temsil eder. Continuous.\n",
    "\n",
    "**Sermaye Kazancı**: Sürekli değer.\n",
    "\n",
    "**capital-loss**: Bir bireyin varlık satışlarından (örneğin, hisse senedi veya gayrimenkul satışı) uğradığı zararı temsil eder. Continuous.\n",
    "\n",
    "**Sermaye Kaybı**: Sürekli değer.\n",
    "\n",
    "**hours-per-week**: Continuous.\n",
    "\n",
    "**Haftalık Çalışma Saati**: Sürekli değer.\n",
    "\n",
    "**native-country**: United-States, Cambodia, England, Puerto-Rico, Canada, Germany, Outlying-US(Guam-USVI-etc), India, Japan, Greece, South, China, Cuba, Iran, Honduras, Philippines, Italy, Poland, Jamaica, Vietnam, Mexico, Portugal, Ireland, France, Dominican-Republic, Laos, Ecuador, Taiwan, Haiti, Columbia, Hungary, Guatemala, Nicaragua, Scotland, Thailand, Yugoslavia, El-Salvador, Trinadad&Tobago, Peru, Hong, Holand-Netherlands.\n",
    "\n",
    "**Anavatan**: ABD, Kamboçya, İngiltere ...\n",
    "\n",
    "**salary**: >50K,<=50K.\n",
    "\n",
    "**Maaş**: >50K,<=50K."
   ]
  },
  {
   "cell_type": "code",
   "execution_count": null,
   "id": "54873b5e",
   "metadata": {},
   "outputs": [],
   "source": []
  },
  {
   "cell_type": "markdown",
   "id": "07bbc4c1",
   "metadata": {},
   "source": [
    "# <font color='green'> <b>Data Pre-Processing</b><font color='black'>"
   ]
  },
  {
   "cell_type": "code",
   "execution_count": null,
   "id": "2b27178c",
   "metadata": {},
   "outputs": [],
   "source": []
  },
  {
   "cell_type": "markdown",
   "id": "1fead4c5",
   "metadata": {},
   "source": [
    "# <font color='green'> <b>Implement Logistic Regression</b><font color='black'>"
   ]
  },
  {
   "cell_type": "code",
   "execution_count": null,
   "id": "36812850",
   "metadata": {},
   "outputs": [],
   "source": []
  },
  {
   "cell_type": "markdown",
   "id": "a99e423a",
   "metadata": {},
   "source": [
    "# <font color='green'> <b>K Nearest Neigbors (KNN)</b><font color='black'>"
   ]
  },
  {
   "cell_type": "code",
   "execution_count": null,
   "id": "8fcea8bd",
   "metadata": {},
   "outputs": [],
   "source": []
  },
  {
   "cell_type": "markdown",
   "id": "457210b9",
   "metadata": {},
   "source": [
    "# <font color='green'> <b>Implement Support Vector Machine (SVC)</b><font color='black'>"
   ]
  },
  {
   "cell_type": "code",
   "execution_count": null,
   "id": "fff73b9d",
   "metadata": {},
   "outputs": [],
   "source": []
  },
  {
   "cell_type": "markdown",
   "id": "c1458a18",
   "metadata": {},
   "source": [
    "# <font color='green'> <b>Conclusion</b><font color='black'>"
   ]
  },
  {
   "cell_type": "code",
   "execution_count": null,
   "id": "4db3039d",
   "metadata": {},
   "outputs": [],
   "source": []
  },
  {
   "cell_type": "markdown",
   "id": "a10c0a99",
   "metadata": {
    "ExecuteTime": {
     "end_time": "2023-11-30T13:18:41.298056Z",
     "start_time": "2023-11-30T13:18:41.288295Z"
    },
    "run_control": {
     "marked": true
    }
   },
   "source": [
    "# <p style=\"background-color:green;font-family:newtimeroman;font-size:150%;color:white;text-align:center;border-radius:20px 20px;\"><b>Faydalı Olması Temennisiyle Teşekkürler</b></p>\n",
    "![](https://www.techproeducation.com/logo/headerlogo.svg)\n",
    "\n",
    "<b>Yeniliklerden ilk siz haberdar olmak istiyorsanız lütfen bizi takip etmeyi unutmayın </b>[YouTube](https://www.youtube.com/c/techproeducation) | [Instagram](https://www.instagram.com/techproeducation) | [Facebook](https://www.facebook.com/techproeducation) | [Telegram](https://t.me/joinchat/HH2qRvA-ulh4OWbb) | [WhatsApp](https://api.whatsapp.com/send/?phone=%2B15853042959&text&type=phone_number&app_absent=0) | [LinkedIn](https://www.linkedin.com/company/techproeducation/mycompany/) |"
   ]
  }
 ],
 "metadata": {
  "colab": {
   "collapsed_sections": [],
   "name": "Case Study_2_solution-.ipynb",
   "provenance": []
  },
  "hide_input": false,
  "interpreter": {
   "hash": "b91502e98c93ec413571a3c4a71c4e7e2f090119475bdef759aa0802c5125d05"
  },
  "kernelspec": {
   "display_name": "Python 3 (ipykernel)",
   "language": "python",
   "name": "python3"
  },
  "language_info": {
   "codemirror_mode": {
    "name": "ipython",
    "version": 3
   },
   "file_extension": ".py",
   "mimetype": "text/x-python",
   "name": "python",
   "nbconvert_exporter": "python",
   "pygments_lexer": "ipython3",
   "version": "3.11.7"
  },
  "toc": {
   "base_numbering": 1,
   "nav_menu": {},
   "number_sections": true,
   "sideBar": true,
   "skip_h1_title": false,
   "title_cell": "Table of Contents",
   "title_sidebar": "Contents",
   "toc_cell": false,
   "toc_position": {
    "height": "calc(100% - 180px)",
    "left": "10px",
    "top": "150px",
    "width": "292.172px"
   },
   "toc_section_display": true,
   "toc_window_display": true
  },
  "varInspector": {
   "cols": {
    "lenName": 16,
    "lenType": 16,
    "lenVar": 40
   },
   "kernels_config": {
    "python": {
     "delete_cmd_postfix": "",
     "delete_cmd_prefix": "del ",
     "library": "var_list.py",
     "varRefreshCmd": "print(var_dic_list())"
    },
    "r": {
     "delete_cmd_postfix": ") ",
     "delete_cmd_prefix": "rm(",
     "library": "var_list.r",
     "varRefreshCmd": "cat(var_dic_list()) "
    }
   },
   "types_to_exclude": [
    "module",
    "function",
    "builtin_function_or_method",
    "instance",
    "_Feature"
   ],
   "window_display": false
  }
 },
 "nbformat": 4,
 "nbformat_minor": 5
}
